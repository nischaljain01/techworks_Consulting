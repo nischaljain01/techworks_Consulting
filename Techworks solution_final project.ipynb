{
 "cells": [
  {
   "cell_type": "markdown",
   "id": "ca907b5a",
   "metadata": {},
   "source": [
    "CONTENTS\n",
    "1. Importing Library and Data files\n",
    "2. Data Preprocessing and Checking Outliers \n",
    "3. Visualizations\n",
    "4. Models Training \n",
    "        A.Linear Regression\n",
    "        B.Ridge Regression\n",
    "        C.Lasso Regression\n",
    "        D.Decision Tree Bagging Regression\n",
    "        E.Random Forest Regression\n",
    "        F.Gradient Boosting Regression\n",
    "        G.XGBoost Regression\n",
    "5. Result Comparison\n",
    "6. Prediction\n",
    "7. Answers of the Project\n"
   ]
  },
  {
   "cell_type": "markdown",
   "id": "084eea8d",
   "metadata": {},
   "source": [
    "# Importing Library and Data files"
   ]
  },
  {
   "cell_type": "code",
   "execution_count": 1,
   "id": "2842c62d",
   "metadata": {
    "tags": []
   },
   "outputs": [
    {
     "ename": "ModuleNotFoundError",
     "evalue": "No module named 'xgboost'",
     "output_type": "error",
     "traceback": [
      "\u001b[0;31m---------------------------------------------------------------------------\u001b[0m",
      "\u001b[0;31mModuleNotFoundError\u001b[0m                       Traceback (most recent call last)",
      "Cell \u001b[0;32mIn[1], line 10\u001b[0m\n\u001b[1;32m      8\u001b[0m \u001b[38;5;28;01mfrom\u001b[39;00m \u001b[38;5;21;01msklearn\u001b[39;00m\u001b[38;5;21;01m.\u001b[39;00m\u001b[38;5;21;01mlinear_model\u001b[39;00m \u001b[38;5;28;01mimport\u001b[39;00m LinearRegression, Ridge, Lasso\n\u001b[1;32m      9\u001b[0m \u001b[38;5;28;01mfrom\u001b[39;00m \u001b[38;5;21;01msklearn\u001b[39;00m\u001b[38;5;21;01m.\u001b[39;00m\u001b[38;5;21;01mensemble\u001b[39;00m \u001b[38;5;28;01mimport\u001b[39;00m BaggingRegressor, RandomForestRegressor, GradientBoostingRegressor, AdaBoostRegressor\n\u001b[0;32m---> 10\u001b[0m \u001b[38;5;28;01mimport\u001b[39;00m \u001b[38;5;21;01mxgboost\u001b[39;00m \u001b[38;5;28;01mas\u001b[39;00m \u001b[38;5;21;01mxgb\u001b[39;00m\n\u001b[1;32m     11\u001b[0m \u001b[38;5;28;01mfrom\u001b[39;00m \u001b[38;5;21;01msklearn\u001b[39;00m\u001b[38;5;21;01m.\u001b[39;00m\u001b[38;5;21;01mmodel_selection\u001b[39;00m \u001b[38;5;28;01mimport\u001b[39;00m GridSearchCV\n\u001b[1;32m     12\u001b[0m \u001b[38;5;28;01mfrom\u001b[39;00m \u001b[38;5;21;01msklearn\u001b[39;00m\u001b[38;5;21;01m.\u001b[39;00m\u001b[38;5;21;01mmetrics\u001b[39;00m \u001b[38;5;28;01mimport\u001b[39;00m mean_squared_error\n",
      "\u001b[0;31mModuleNotFoundError\u001b[0m: No module named 'xgboost'"
     ]
    }
   ],
   "source": [
    "# IMPORTING LIBRARIES\n",
    "import pandas as pd\n",
    "import seaborn as sns\n",
    "import numpy as np\n",
    "import matplotlib.pyplot as plt\n",
    "from sklearn.model_selection import train_test_split\n",
    "from sklearn.metrics import r2_score\n",
    "from sklearn.linear_model import LinearRegression, Ridge, Lasso\n",
    "from sklearn.ensemble import BaggingRegressor, RandomForestRegressor, GradientBoostingRegressor, AdaBoostRegressor\n",
    "import xgboost as xgb\n",
    "from sklearn.model_selection import GridSearchCV\n",
    "from sklearn.metrics import mean_squared_error"
   ]
  },
  {
   "cell_type": "code",
   "execution_count": null,
   "id": "483190db",
   "metadata": {
    "tags": []
   },
   "outputs": [],
   "source": [
    "# IMPORTING DATA FILES\n",
    "df = pd.read_csv('/Users/nischaljain/Downloads/ML case Study.csv', header=0)\n",
    "colleges = pd.read_csv('/Users/nischaljain/Downloads/Colleges.csv', header=0)\n",
    "cities = pd.read_csv('/Users/nischaljain/Downloads/cities.csv', header=0)"
   ]
  },
  {
   "cell_type": "code",
   "execution_count": null,
   "id": "f7030f19",
   "metadata": {
    "tags": []
   },
   "outputs": [],
   "source": [
    "# Pre-Processing of categories to machine understandable  language\n",
    "Tier1 = colleges[\"Tier 1\"].tolist()\n",
    "Tier2 = colleges[\"Tier 2\"].tolist()\n",
    "Tier3 = colleges[\"Tier 3\"].tolist()\n",
    "\n",
    "for item in df.College:\n",
    "    if item in Tier1:\n",
    "        df[\"College\"].replace(item, 1, inplace=True)\n",
    "    elif item in Tier2:\n",
    "        df[\"College\"].replace(item, 2, inplace=True)\n",
    "    elif item in Tier3:\n",
    "        df[\"College\"].replace(item, 3, inplace=True)\n",
    "\n",
    "metro_city = cities[\"Metrio City\"].tolist()\n",
    "non_metro_city = cities[\"non-metro cities\"].tolist()\n",
    "\n",
    "for item in df.City:\n",
    "    if item in metro_city:\n",
    "        df[\"City\"].replace(item, 1, inplace=True)\n",
    "    elif item in non_metro_city:\n",
    "        df[\"City\"].replace(item, 0, inplace=True)\n",
    "\n",
    "df = pd.get_dummies(df, columns=[\"Role\"], drop_first=True)"
   ]
  },
  {
   "cell_type": "markdown",
   "id": "90bfbc03",
   "metadata": {},
   "source": [
    "# Data Preprocessing"
   ]
  },
  {
   "cell_type": "code",
   "execution_count": null,
   "id": "11e53c0c",
   "metadata": {
    "tags": []
   },
   "outputs": [],
   "source": [
    "# Dataframe \n",
    "df.head()"
   ]
  },
  {
   "cell_type": "code",
   "execution_count": null,
   "id": "72cb5a6a",
   "metadata": {
    "tags": []
   },
   "outputs": [],
   "source": [
    "(df.shape)"
   ]
  },
  {
   "cell_type": "code",
   "execution_count": null,
   "id": "91cf5e42",
   "metadata": {
    "tags": []
   },
   "outputs": [],
   "source": [
    "df.info()\n",
    "# There are no absent values in the data frame, thus there is no requirement for any data filling."
   ]
  },
  {
   "cell_type": "code",
   "execution_count": null,
   "id": "660a0f4c",
   "metadata": {
    "tags": []
   },
   "outputs": [],
   "source": [
    "# Pre-Processing Correlation and Checking Outliers \n",
    "df.describe()"
   ]
  },
  {
   "cell_type": "code",
   "execution_count": 2,
   "id": "b719532c",
   "metadata": {
    "tags": []
   },
   "outputs": [
    {
     "ename": "NameError",
     "evalue": "name 'df' is not defined",
     "output_type": "error",
     "traceback": [
      "\u001b[0;31m---------------------------------------------------------------------------\u001b[0m",
      "\u001b[0;31mNameError\u001b[0m                                 Traceback (most recent call last)",
      "Cell \u001b[0;32mIn[2], line 1\u001b[0m\n\u001b[0;32m----> 1\u001b[0m df\u001b[38;5;241m.\u001b[39mcorr()\n",
      "\u001b[0;31mNameError\u001b[0m: name 'df' is not defined"
     ]
    }
   ],
   "source": [
    "df.corr()\n",
    "# Based on the correlation analysis, it appears that 'Previous CTC' and 'Exp(Month)' exhibit a strong correlation with CTC."
   ]
  },
  {
   "cell_type": "markdown",
   "id": "7f6c3e0a",
   "metadata": {},
   "source": [
    "  #  Visualizations "
   ]
  },
  {
   "cell_type": "code",
   "execution_count": 3,
   "id": "3173fd7a",
   "metadata": {
    "tags": []
   },
   "outputs": [
    {
     "ename": "NameError",
     "evalue": "name 'df' is not defined",
     "output_type": "error",
     "traceback": [
      "\u001b[0;31m---------------------------------------------------------------------------\u001b[0m",
      "\u001b[0;31mNameError\u001b[0m                                 Traceback (most recent call last)",
      "Cell \u001b[0;32mIn[3], line 3\u001b[0m\n\u001b[1;32m      1\u001b[0m \u001b[38;5;66;03m# Correlation Visualization\u001b[39;00m\n\u001b[1;32m      2\u001b[0m sns\u001b[38;5;241m.\u001b[39mset(style\u001b[38;5;241m=\u001b[39m\u001b[38;5;124m\"\u001b[39m\u001b[38;5;124mdark\u001b[39m\u001b[38;5;124m\"\u001b[39m)\n\u001b[0;32m----> 3\u001b[0m sns\u001b[38;5;241m.\u001b[39mjointplot(x\u001b[38;5;241m=\u001b[39m\u001b[38;5;124m\"\u001b[39m\u001b[38;5;124mEXP (Month)\u001b[39m\u001b[38;5;124m\"\u001b[39m, y\u001b[38;5;241m=\u001b[39m\u001b[38;5;124m\"\u001b[39m\u001b[38;5;124mCTC\u001b[39m\u001b[38;5;124m\"\u001b[39m, data\u001b[38;5;241m=\u001b[39mdf, kind\u001b[38;5;241m=\u001b[39m\u001b[38;5;124m'\u001b[39m\u001b[38;5;124mreg\u001b[39m\u001b[38;5;124m'\u001b[39m, line_kws\u001b[38;5;241m=\u001b[39m{\u001b[38;5;124m\"\u001b[39m\u001b[38;5;124mcolor\u001b[39m\u001b[38;5;124m\"\u001b[39m: \u001b[38;5;124m\"\u001b[39m\u001b[38;5;124mblue\u001b[39m\u001b[38;5;124m\"\u001b[39m}, scatter_kws\u001b[38;5;241m=\u001b[39m{\u001b[38;5;124m\"\u001b[39m\u001b[38;5;124mcolor\u001b[39m\u001b[38;5;124m\"\u001b[39m: \u001b[38;5;124m\"\u001b[39m\u001b[38;5;124mred\u001b[39m\u001b[38;5;124m\"\u001b[39m})\n",
      "\u001b[0;31mNameError\u001b[0m: name 'df' is not defined"
     ]
    }
   ],
   "source": [
    "# Correlation Visualization\n",
    "sns.set(style=\"dark\")\n",
    "sns.jointplot(x=\"EXP (Month)\", y=\"CTC\", data=df, kind='reg', line_kws={\"color\": \"blue\"}, scatter_kws={\"color\": \"red\"})"
   ]
  },
  {
   "cell_type": "code",
   "execution_count": 4,
   "id": "0fde746c",
   "metadata": {
    "tags": []
   },
   "outputs": [
    {
     "ename": "NameError",
     "evalue": "name 'df' is not defined",
     "output_type": "error",
     "traceback": [
      "\u001b[0;31m---------------------------------------------------------------------------\u001b[0m",
      "\u001b[0;31mNameError\u001b[0m                                 Traceback (most recent call last)",
      "Cell \u001b[0;32mIn[4], line 2\u001b[0m\n\u001b[1;32m      1\u001b[0m sns\u001b[38;5;241m.\u001b[39mset(style\u001b[38;5;241m=\u001b[39m\u001b[38;5;124m\"\u001b[39m\u001b[38;5;124mdark\u001b[39m\u001b[38;5;124m\"\u001b[39m)\n\u001b[0;32m----> 2\u001b[0m sns\u001b[38;5;241m.\u001b[39mjointplot(x\u001b[38;5;241m=\u001b[39m\u001b[38;5;124m\"\u001b[39m\u001b[38;5;124mPrevious CTC\u001b[39m\u001b[38;5;124m\"\u001b[39m, y\u001b[38;5;241m=\u001b[39m\u001b[38;5;124m\"\u001b[39m\u001b[38;5;124mCTC\u001b[39m\u001b[38;5;124m\"\u001b[39m, data\u001b[38;5;241m=\u001b[39mdf, kind\u001b[38;5;241m=\u001b[39m\u001b[38;5;124m'\u001b[39m\u001b[38;5;124mreg\u001b[39m\u001b[38;5;124m'\u001b[39m, line_kws\u001b[38;5;241m=\u001b[39m{\u001b[38;5;124m\"\u001b[39m\u001b[38;5;124mcolor\u001b[39m\u001b[38;5;124m\"\u001b[39m: \u001b[38;5;124m\"\u001b[39m\u001b[38;5;124mcyan\u001b[39m\u001b[38;5;124m\"\u001b[39m}, scatter_kws\u001b[38;5;241m=\u001b[39m{\u001b[38;5;124m\"\u001b[39m\u001b[38;5;124mcolor\u001b[39m\u001b[38;5;124m\"\u001b[39m: \u001b[38;5;124m\"\u001b[39m\u001b[38;5;124mYellow\u001b[39m\u001b[38;5;124m\"\u001b[39m})\n",
      "\u001b[0;31mNameError\u001b[0m: name 'df' is not defined"
     ]
    }
   ],
   "source": [
    "sns.set(style=\"dark\")\n",
    "sns.jointplot(x=\"Previous CTC\", y=\"CTC\", data=df, kind='reg', line_kws={\"color\": \"cyan\"}, scatter_kws={\"color\": \"Yellow\"})"
   ]
  },
  {
   "cell_type": "code",
   "execution_count": 17,
   "id": "cd530c17",
   "metadata": {},
   "outputs": [
    {
     "name": "stderr",
     "output_type": "stream",
     "text": [
      "<__array_function__ internals>:200: RuntimeWarning: Converting input from bool to <class 'numpy.uint8'> for compatibility.\n"
     ]
    },
    {
     "data": {
      "text/plain": [
       "<seaborn.axisgrid.JointGrid at 0x14cd3ac50>"
      ]
     },
     "execution_count": 17,
     "metadata": {},
     "output_type": "execute_result"
    },
    {
     "data": {
      "image/png": "[encoded data removed]",
      "text/plain": [
       "<Figure size 600x600 with 3 Axes>"
      ]
     },
     "metadata": {},
     "output_type": "display_data"
    }
   ],
   "source": [
    "sns.set(style=\"dark\")\n",
    "sns.jointplot(x=\"Role_Manager\", y=\"CTC\", data=df, kind='reg', line_kws={\"color\": \"blue\"}, scatter_kws={\"color\": \"red\"})"
   ]
  },
  {
   "cell_type": "markdown",
   "id": "c02dd0fb",
   "metadata": {},
   "source": [
    "# Other visualization"
   ]
  },
  {
   "cell_type": "code",
   "execution_count": 18,
   "id": "e9e04236",
   "metadata": {},
   "outputs": [
    {
     "data": {
      "image/png": "[encoded data removed]",
      "text/plain": [
       "<Figure size 1000x1000 with 9 Axes>"
      ]
     },
     "metadata": {},
     "output_type": "display_data"
    }
   ],
   "source": [
    "# histograms\n",
    "df.hist(figsize=(10,10))\n",
    "plt.show()"
   ]
  },
  {
   "cell_type": "code",
   "execution_count": 19,
   "id": "e68aed00",
   "metadata": {},
   "outputs": [
    {
     "data": {
      "text/plain": [
       "<Axes: xlabel='College', ylabel='count'>"
      ]
     },
     "execution_count": 19,
     "metadata": {},
     "output_type": "execute_result"
    },
    {
     "data": {
      "image/png": "[encoded data removed]",
      "text/plain": [
       "<Figure size 640x480 with 1 Axes>"
      ]
     },
     "metadata": {},
     "output_type": "display_data"
    }
   ],
   "source": [
    "sns.set(style=\"darkgrid\")\n",
    "\n",
    "sns.countplot(x='College',data=df)"
   ]
  },
  {
   "cell_type": "code",
   "execution_count": 20,
   "id": "d45fd51b",
   "metadata": {},
   "outputs": [
    {
     "data": {
      "image/png": "[encoded data removed]",
      "text/plain": [
       "<Figure size 800x600 with 1 Axes>"
      ]
     },
     "metadata": {},
     "output_type": "display_data"
    }
   ],
   "source": [
    "import matplotlib.pyplot as plt\n",
    "import seaborn as sns\n",
    "\n",
    "plt.figure(figsize=(8, 6))\n",
    "sns.boxplot(x=df['Previous CTC'])\n",
    "plt.title(\"Box Plot of Previous CTC\")\n",
    "plt.xlabel(\"Previous CTC\")\n",
    "plt.show()"
   ]
  },
  {
   "cell_type": "code",
   "execution_count": 21,
   "id": "35025798",
   "metadata": {},
   "outputs": [
    {
     "data": {
      "text/plain": [
       "<Axes: xlabel='CTC'>"
      ]
     },
     "execution_count": 21,
     "metadata": {},
     "output_type": "execute_result"
    },
    {
     "data": {
      "image/png": "[encoded data removed]",
      "text/plain": [
       "<Figure size 640x480 with 1 Axes>"
      ]
     },
     "metadata": {},
     "output_type": "display_data"
    }
   ],
   "source": [
    "sns.boxplot(x=df['CTC'])"
   ]
  },
  {
   "cell_type": "markdown",
   "id": "95fd3b65",
   "metadata": {},
   "source": [
    "# Generating a data frame for the purpose of storing model outcomes for comparison."
   ]
  },
  {
   "cell_type": "code",
   "execution_count": 41,
   "id": "4337a402",
   "metadata": {},
   "outputs": [],
   "source": [
    "# In order to establish a dataframe for the purpose of comparing model accuracy, empty lists are initialized.\n",
    "r2_i=[]\n",
    "r2_r=[]\n",
    "r_mean_squared_error=[]\n",
    "models=[]\n"
   ]
  },
  {
   "cell_type": "markdown",
   "id": "df4fd46f",
   "metadata": {},
   "source": [
    "# Linear Regression Model "
   ]
  },
  {
   "cell_type": "code",
   "execution_count": 42,
   "id": "e50210d5",
   "metadata": {},
   "outputs": [
    {
     "ename": "ValueError",
     "evalue": "Pandas data cast to numpy dtype of object. Check input data with np.asarray(data).",
     "output_type": "error",
     "traceback": [
      "\u001b[0;31m---------------------------------------------------------------------------\u001b[0m",
      "\u001b[0;31mValueError\u001b[0m                                Traceback (most recent call last)",
      "Cell \u001b[0;32mIn[42], line 8\u001b[0m\n\u001b[1;32m      5\u001b[0m \u001b[38;5;28;01mimport\u001b[39;00m \u001b[38;5;21;01mstatsmodels\u001b[39;00m\u001b[38;5;21;01m.\u001b[39;00m\u001b[38;5;21;01mapi\u001b[39;00m \u001b[38;5;28;01mas\u001b[39;00m \u001b[38;5;21;01msm\u001b[39;00m\n\u001b[1;32m      6\u001b[0m X_multi_cons \u001b[38;5;241m=\u001b[39m sm\u001b[38;5;241m.\u001b[39madd_constant(X_multi)\n\u001b[0;32m----> 8\u001b[0m lm_multi \u001b[38;5;241m=\u001b[39m sm\u001b[38;5;241m.\u001b[39mOLS(y_multi, X_multi_cons)\u001b[38;5;241m.\u001b[39mfit()\n\u001b[1;32m      9\u001b[0m \u001b[38;5;28mprint\u001b[39m(lm_multi\u001b[38;5;241m.\u001b[39msummary())\n\u001b[1;32m     11\u001b[0m \u001b[38;5;28;01mfrom\u001b[39;00m \u001b[38;5;21;01msklearn\u001b[39;00m\u001b[38;5;21;01m.\u001b[39;00m\u001b[38;5;21;01mlinear_model\u001b[39;00m \u001b[38;5;28;01mimport\u001b[39;00m LinearRegression\n",
      "File \u001b[0;32m~/anaconda3/lib/python3.11/site-packages/statsmodels/regression/linear_model.py:922\u001b[0m, in \u001b[0;36mOLS.__init__\u001b[0;34m(self, endog, exog, missing, hasconst, **kwargs)\u001b[0m\n\u001b[1;32m    919\u001b[0m     msg \u001b[38;5;241m=\u001b[39m (\u001b[38;5;124m\"\u001b[39m\u001b[38;5;124mWeights are not supported in OLS and will be ignored\u001b[39m\u001b[38;5;124m\"\u001b[39m\n\u001b[1;32m    920\u001b[0m            \u001b[38;5;124m\"\u001b[39m\u001b[38;5;124mAn exception will be raised in the next version.\u001b[39m\u001b[38;5;124m\"\u001b[39m)\n\u001b[1;32m    921\u001b[0m     warnings\u001b[38;5;241m.\u001b[39mwarn(msg, ValueWarning)\n\u001b[0;32m--> 922\u001b[0m \u001b[38;5;28msuper\u001b[39m(OLS, \u001b[38;5;28mself\u001b[39m)\u001b[38;5;241m.\u001b[39m\u001b[38;5;21m__init__\u001b[39m(endog, exog, missing\u001b[38;5;241m=\u001b[39mmissing,\n\u001b[1;32m    923\u001b[0m                           hasconst\u001b[38;5;241m=\u001b[39mhasconst, \u001b[38;5;241m*\u001b[39m\u001b[38;5;241m*\u001b[39mkwargs)\n\u001b[1;32m    924\u001b[0m \u001b[38;5;28;01mif\u001b[39;00m \u001b[38;5;124m\"\u001b[39m\u001b[38;5;124mweights\u001b[39m\u001b[38;5;124m\"\u001b[39m \u001b[38;5;129;01min\u001b[39;00m \u001b[38;5;28mself\u001b[39m\u001b[38;5;241m.\u001b[39m_init_keys:\n\u001b[1;32m    925\u001b[0m     \u001b[38;5;28mself\u001b[39m\u001b[38;5;241m.\u001b[39m_init_keys\u001b[38;5;241m.\u001b[39mremove(\u001b[38;5;124m\"\u001b[39m\u001b[38;5;124mweights\u001b[39m\u001b[38;5;124m\"\u001b[39m)\n",
      "File \u001b[0;32m~/anaconda3/lib/python3.11/site-packages/statsmodels/regression/linear_model.py:748\u001b[0m, in \u001b[0;36mWLS.__init__\u001b[0;34m(self, endog, exog, weights, missing, hasconst, **kwargs)\u001b[0m\n\u001b[1;32m    746\u001b[0m \u001b[38;5;28;01melse\u001b[39;00m:\n\u001b[1;32m    747\u001b[0m     weights \u001b[38;5;241m=\u001b[39m weights\u001b[38;5;241m.\u001b[39msqueeze()\n\u001b[0;32m--> 748\u001b[0m \u001b[38;5;28msuper\u001b[39m(WLS, \u001b[38;5;28mself\u001b[39m)\u001b[38;5;241m.\u001b[39m\u001b[38;5;21m__init__\u001b[39m(endog, exog, missing\u001b[38;5;241m=\u001b[39mmissing,\n\u001b[1;32m    749\u001b[0m                           weights\u001b[38;5;241m=\u001b[39mweights, hasconst\u001b[38;5;241m=\u001b[39mhasconst, \u001b[38;5;241m*\u001b[39m\u001b[38;5;241m*\u001b[39mkwargs)\n\u001b[1;32m    750\u001b[0m nobs \u001b[38;5;241m=\u001b[39m \u001b[38;5;28mself\u001b[39m\u001b[38;5;241m.\u001b[39mexog\u001b[38;5;241m.\u001b[39mshape[\u001b[38;5;241m0\u001b[39m]\n\u001b[1;32m    751\u001b[0m weights \u001b[38;5;241m=\u001b[39m \u001b[38;5;28mself\u001b[39m\u001b[38;5;241m.\u001b[39mweights\n",
      "File \u001b[0;32m~/anaconda3/lib/python3.11/site-packages/statsmodels/regression/linear_model.py:202\u001b[0m, in \u001b[0;36mRegressionModel.__init__\u001b[0;34m(self, endog, exog, **kwargs)\u001b[0m\n\u001b[1;32m    201\u001b[0m \u001b[38;5;28;01mdef\u001b[39;00m \u001b[38;5;21m__init__\u001b[39m(\u001b[38;5;28mself\u001b[39m, endog, exog, \u001b[38;5;241m*\u001b[39m\u001b[38;5;241m*\u001b[39mkwargs):\n\u001b[0;32m--> 202\u001b[0m     \u001b[38;5;28msuper\u001b[39m(RegressionModel, \u001b[38;5;28mself\u001b[39m)\u001b[38;5;241m.\u001b[39m\u001b[38;5;21m__init__\u001b[39m(endog, exog, \u001b[38;5;241m*\u001b[39m\u001b[38;5;241m*\u001b[39mkwargs)\n\u001b[1;32m    203\u001b[0m     \u001b[38;5;28mself\u001b[39m\u001b[38;5;241m.\u001b[39mpinv_wexog: Float64Array \u001b[38;5;241m|\u001b[39m \u001b[38;5;28;01mNone\u001b[39;00m \u001b[38;5;241m=\u001b[39m \u001b[38;5;28;01mNone\u001b[39;00m\n\u001b[1;32m    204\u001b[0m     \u001b[38;5;28mself\u001b[39m\u001b[38;5;241m.\u001b[39m_data_attr\u001b[38;5;241m.\u001b[39mextend([\u001b[38;5;124m'\u001b[39m\u001b[38;5;124mpinv_wexog\u001b[39m\u001b[38;5;124m'\u001b[39m, \u001b[38;5;124m'\u001b[39m\u001b[38;5;124mwendog\u001b[39m\u001b[38;5;124m'\u001b[39m, \u001b[38;5;124m'\u001b[39m\u001b[38;5;124mwexog\u001b[39m\u001b[38;5;124m'\u001b[39m, \u001b[38;5;124m'\u001b[39m\u001b[38;5;124mweights\u001b[39m\u001b[38;5;124m'\u001b[39m])\n",
      "File \u001b[0;32m~/anaconda3/lib/python3.11/site-packages/statsmodels/base/model.py:270\u001b[0m, in \u001b[0;36mLikelihoodModel.__init__\u001b[0;34m(self, endog, exog, **kwargs)\u001b[0m\n\u001b[1;32m    269\u001b[0m \u001b[38;5;28;01mdef\u001b[39;00m \u001b[38;5;21m__init__\u001b[39m(\u001b[38;5;28mself\u001b[39m, endog, exog\u001b[38;5;241m=\u001b[39m\u001b[38;5;28;01mNone\u001b[39;00m, \u001b[38;5;241m*\u001b[39m\u001b[38;5;241m*\u001b[39mkwargs):\n\u001b[0;32m--> 270\u001b[0m     \u001b[38;5;28msuper\u001b[39m()\u001b[38;5;241m.\u001b[39m\u001b[38;5;21m__init__\u001b[39m(endog, exog, \u001b[38;5;241m*\u001b[39m\u001b[38;5;241m*\u001b[39mkwargs)\n\u001b[1;32m    271\u001b[0m     \u001b[38;5;28mself\u001b[39m\u001b[38;5;241m.\u001b[39minitialize()\n",
      "File \u001b[0;32m~/anaconda3/lib/python3.11/site-packages/statsmodels/base/model.py:95\u001b[0m, in \u001b[0;36mModel.__init__\u001b[0;34m(self, endog, exog, **kwargs)\u001b[0m\n\u001b[1;32m     93\u001b[0m missing \u001b[38;5;241m=\u001b[39m kwargs\u001b[38;5;241m.\u001b[39mpop(\u001b[38;5;124m'\u001b[39m\u001b[38;5;124mmissing\u001b[39m\u001b[38;5;124m'\u001b[39m, \u001b[38;5;124m'\u001b[39m\u001b[38;5;124mnone\u001b[39m\u001b[38;5;124m'\u001b[39m)\n\u001b[1;32m     94\u001b[0m hasconst \u001b[38;5;241m=\u001b[39m kwargs\u001b[38;5;241m.\u001b[39mpop(\u001b[38;5;124m'\u001b[39m\u001b[38;5;124mhasconst\u001b[39m\u001b[38;5;124m'\u001b[39m, \u001b[38;5;28;01mNone\u001b[39;00m)\n\u001b[0;32m---> 95\u001b[0m \u001b[38;5;28mself\u001b[39m\u001b[38;5;241m.\u001b[39mdata \u001b[38;5;241m=\u001b[39m \u001b[38;5;28mself\u001b[39m\u001b[38;5;241m.\u001b[39m_handle_data(endog, exog, missing, hasconst,\n\u001b[1;32m     96\u001b[0m                               \u001b[38;5;241m*\u001b[39m\u001b[38;5;241m*\u001b[39mkwargs)\n\u001b[1;32m     97\u001b[0m \u001b[38;5;28mself\u001b[39m\u001b[38;5;241m.\u001b[39mk_constant \u001b[38;5;241m=\u001b[39m \u001b[38;5;28mself\u001b[39m\u001b[38;5;241m.\u001b[39mdata\u001b[38;5;241m.\u001b[39mk_constant\n\u001b[1;32m     98\u001b[0m \u001b[38;5;28mself\u001b[39m\u001b[38;5;241m.\u001b[39mexog \u001b[38;5;241m=\u001b[39m \u001b[38;5;28mself\u001b[39m\u001b[38;5;241m.\u001b[39mdata\u001b[38;5;241m.\u001b[39mexog\n",
      "File \u001b[0;32m~/anaconda3/lib/python3.11/site-packages/statsmodels/base/model.py:135\u001b[0m, in \u001b[0;36mModel._handle_data\u001b[0;34m(self, endog, exog, missing, hasconst, **kwargs)\u001b[0m\n\u001b[1;32m    134\u001b[0m \u001b[38;5;28;01mdef\u001b[39;00m \u001b[38;5;21m_handle_data\u001b[39m(\u001b[38;5;28mself\u001b[39m, endog, exog, missing, hasconst, \u001b[38;5;241m*\u001b[39m\u001b[38;5;241m*\u001b[39mkwargs):\n\u001b[0;32m--> 135\u001b[0m     data \u001b[38;5;241m=\u001b[39m handle_data(endog, exog, missing, hasconst, \u001b[38;5;241m*\u001b[39m\u001b[38;5;241m*\u001b[39mkwargs)\n\u001b[1;32m    136\u001b[0m     \u001b[38;5;66;03m# kwargs arrays could have changed, easier to just attach here\u001b[39;00m\n\u001b[1;32m    137\u001b[0m     \u001b[38;5;28;01mfor\u001b[39;00m key \u001b[38;5;129;01min\u001b[39;00m kwargs:\n",
      "File \u001b[0;32m~/anaconda3/lib/python3.11/site-packages/statsmodels/base/data.py:675\u001b[0m, in \u001b[0;36mhandle_data\u001b[0;34m(endog, exog, missing, hasconst, **kwargs)\u001b[0m\n\u001b[1;32m    672\u001b[0m     exog \u001b[38;5;241m=\u001b[39m np\u001b[38;5;241m.\u001b[39masarray(exog)\n\u001b[1;32m    674\u001b[0m klass \u001b[38;5;241m=\u001b[39m handle_data_class_factory(endog, exog)\n\u001b[0;32m--> 675\u001b[0m \u001b[38;5;28;01mreturn\u001b[39;00m klass(endog, exog\u001b[38;5;241m=\u001b[39mexog, missing\u001b[38;5;241m=\u001b[39mmissing, hasconst\u001b[38;5;241m=\u001b[39mhasconst,\n\u001b[1;32m    676\u001b[0m              \u001b[38;5;241m*\u001b[39m\u001b[38;5;241m*\u001b[39mkwargs)\n",
      "File \u001b[0;32m~/anaconda3/lib/python3.11/site-packages/statsmodels/base/data.py:84\u001b[0m, in \u001b[0;36mModelData.__init__\u001b[0;34m(self, endog, exog, missing, hasconst, **kwargs)\u001b[0m\n\u001b[1;32m     82\u001b[0m     \u001b[38;5;28mself\u001b[39m\u001b[38;5;241m.\u001b[39morig_endog \u001b[38;5;241m=\u001b[39m endog\n\u001b[1;32m     83\u001b[0m     \u001b[38;5;28mself\u001b[39m\u001b[38;5;241m.\u001b[39morig_exog \u001b[38;5;241m=\u001b[39m exog\n\u001b[0;32m---> 84\u001b[0m     \u001b[38;5;28mself\u001b[39m\u001b[38;5;241m.\u001b[39mendog, \u001b[38;5;28mself\u001b[39m\u001b[38;5;241m.\u001b[39mexog \u001b[38;5;241m=\u001b[39m \u001b[38;5;28mself\u001b[39m\u001b[38;5;241m.\u001b[39m_convert_endog_exog(endog, exog)\n\u001b[1;32m     86\u001b[0m \u001b[38;5;28mself\u001b[39m\u001b[38;5;241m.\u001b[39mconst_idx \u001b[38;5;241m=\u001b[39m \u001b[38;5;28;01mNone\u001b[39;00m\n\u001b[1;32m     87\u001b[0m \u001b[38;5;28mself\u001b[39m\u001b[38;5;241m.\u001b[39mk_constant \u001b[38;5;241m=\u001b[39m \u001b[38;5;241m0\u001b[39m\n",
      "File \u001b[0;32m~/anaconda3/lib/python3.11/site-packages/statsmodels/base/data.py:509\u001b[0m, in \u001b[0;36mPandasData._convert_endog_exog\u001b[0;34m(self, endog, exog)\u001b[0m\n\u001b[1;32m    507\u001b[0m exog \u001b[38;5;241m=\u001b[39m exog \u001b[38;5;28;01mif\u001b[39;00m exog \u001b[38;5;129;01mis\u001b[39;00m \u001b[38;5;28;01mNone\u001b[39;00m \u001b[38;5;28;01melse\u001b[39;00m np\u001b[38;5;241m.\u001b[39masarray(exog)\n\u001b[1;32m    508\u001b[0m \u001b[38;5;28;01mif\u001b[39;00m endog\u001b[38;5;241m.\u001b[39mdtype \u001b[38;5;241m==\u001b[39m \u001b[38;5;28mobject\u001b[39m \u001b[38;5;129;01mor\u001b[39;00m exog \u001b[38;5;129;01mis\u001b[39;00m \u001b[38;5;129;01mnot\u001b[39;00m \u001b[38;5;28;01mNone\u001b[39;00m \u001b[38;5;129;01mand\u001b[39;00m exog\u001b[38;5;241m.\u001b[39mdtype \u001b[38;5;241m==\u001b[39m \u001b[38;5;28mobject\u001b[39m:\n\u001b[0;32m--> 509\u001b[0m     \u001b[38;5;28;01mraise\u001b[39;00m \u001b[38;5;167;01mValueError\u001b[39;00m(\u001b[38;5;124m\"\u001b[39m\u001b[38;5;124mPandas data cast to numpy dtype of object. \u001b[39m\u001b[38;5;124m\"\u001b[39m\n\u001b[1;32m    510\u001b[0m                      \u001b[38;5;124m\"\u001b[39m\u001b[38;5;124mCheck input data with np.asarray(data).\u001b[39m\u001b[38;5;124m\"\u001b[39m)\n\u001b[1;32m    511\u001b[0m \u001b[38;5;28;01mreturn\u001b[39;00m \u001b[38;5;28msuper\u001b[39m(PandasData, \u001b[38;5;28mself\u001b[39m)\u001b[38;5;241m.\u001b[39m_convert_endog_exog(endog, exog)\n",
      "\u001b[0;31mValueError\u001b[0m: Pandas data cast to numpy dtype of object. Check input data with np.asarray(data)."
     ]
    }
   ],
   "source": [
    "# Linear Regression Model\n",
    "X_multi = df.drop(\"CTC\", axis=1)\n",
    "y_multi = df['CTC']\n",
    "\n",
    "import statsmodels.api as sm\n",
    "X_multi_cons = sm.add_constant(X_multi)\n",
    "\n",
    "lm_multi = sm.OLS(y_multi, X_multi_cons).fit()\n",
    "print(lm_multi.summary())\n",
    "\n",
    "from sklearn.linear_model import LinearRegression\n",
    "lm_multi2 = LinearRegression()\n",
    "lm_multi2.fit(X_multi, y_multi)\n",
    "print(lm_multi2.intercept_, lm_multi2.coef_)\n",
    "\n",
    "# Append model results to lists\n",
    "models.append(\"Linear Regression\")\n",
    "r_mean_squared_error.append(np.sqrt(mean_squared_error(y_multi, lm_multi2.predict(X_multi))))\n",
    "r2_i.append(r2_score(y_multi, lm_multi2.predict(X_multi)))\n",
    "r2_r.append(lm_multi2.score(X_multi, y_multi))"
   ]
  },
  {
   "cell_type": "code",
   "execution_count": 25,
   "id": "c52ffad8",
   "metadata": {},
   "outputs": [
    {
     "name": "stdout",
     "output_type": "stream",
     "text": [
      "(1271, 7) (318, 7) (1271,) (318,)\n"
     ]
    }
   ],
   "source": [
    "# Train-Test Split\n",
    "# from sklearn.model_selection import train_test_split (already define above)\n",
    "\n",
    "X_train, X_test, y_train, y_test = train_test_split(X_multi, y_multi, test_size=0.2, random_state=0)\n",
    "print(X_train.shape, X_test.shape, y_train.shape, y_test.shape)"
   ]
  },
  {
   "cell_type": "code",
   "execution_count": 26,
   "id": "f250597c",
   "metadata": {},
   "outputs": [
    {
     "data": {
      "text/html": [
       "<div>\n",
       "<style scoped>\n",
       "    .dataframe tbody tr th:only-of-type {\n",
       "        vertical-align: middle;\n",
       "    }\n",
       "\n",
       "    .dataframe tbody tr th {\n",
       "        vertical-align: top;\n",
       "    }\n",
       "\n",
       "    .dataframe thead th {\n",
       "        text-align: right;\n",
       "    }\n",
       "</style>\n",
       "<table border=\"1\" class=\"dataframe\">\n",
       "  <thead>\n",
       "    <tr style=\"text-align: right;\">\n",
       "      <th></th>\n",
       "      <th>College</th>\n",
       "      <th>City</th>\n",
       "      <th>Previous CTC</th>\n",
       "      <th>Previous job change</th>\n",
       "      <th>Graduation Marks</th>\n",
       "      <th>EXP (Month)</th>\n",
       "      <th>Role_Manager</th>\n",
       "    </tr>\n",
       "  </thead>\n",
       "  <tbody>\n",
       "    <tr>\n",
       "      <th>1062</th>\n",
       "      <td>1</td>\n",
       "      <td>0</td>\n",
       "      <td>61410.0</td>\n",
       "      <td>4</td>\n",
       "      <td>83</td>\n",
       "      <td>59</td>\n",
       "      <td>True</td>\n",
       "    </tr>\n",
       "    <tr>\n",
       "      <th>215</th>\n",
       "      <td>1</td>\n",
       "      <td>1</td>\n",
       "      <td>59781.0</td>\n",
       "      <td>1</td>\n",
       "      <td>46</td>\n",
       "      <td>41</td>\n",
       "      <td>False</td>\n",
       "    </tr>\n",
       "    <tr>\n",
       "      <th>654</th>\n",
       "      <td>1</td>\n",
       "      <td>0</td>\n",
       "      <td>62521.0</td>\n",
       "      <td>1</td>\n",
       "      <td>70</td>\n",
       "      <td>59</td>\n",
       "      <td>False</td>\n",
       "    </tr>\n",
       "    <tr>\n",
       "      <th>55</th>\n",
       "      <td>1</td>\n",
       "      <td>0</td>\n",
       "      <td>66624.0</td>\n",
       "      <td>1</td>\n",
       "      <td>63</td>\n",
       "      <td>58</td>\n",
       "      <td>True</td>\n",
       "    </tr>\n",
       "    <tr>\n",
       "      <th>1187</th>\n",
       "      <td>3</td>\n",
       "      <td>0</td>\n",
       "      <td>54621.0</td>\n",
       "      <td>2</td>\n",
       "      <td>52</td>\n",
       "      <td>62</td>\n",
       "      <td>False</td>\n",
       "    </tr>\n",
       "  </tbody>\n",
       "</table>\n",
       "</div>"
      ],
      "text/plain": [
       "      College  City  Previous CTC  Previous job change  Graduation Marks  \\\n",
       "1062        1     0       61410.0                    4                83   \n",
       "215         1     1       59781.0                    1                46   \n",
       "654         1     0       62521.0                    1                70   \n",
       "55          1     0       66624.0                    1                63   \n",
       "1187        3     0       54621.0                    2                52   \n",
       "\n",
       "      EXP (Month)  Role_Manager  \n",
       "1062           59          True  \n",
       "215            41         False  \n",
       "654            59         False  \n",
       "55             58          True  \n",
       "1187           62         False  "
      ]
     },
     "execution_count": 26,
     "metadata": {},
     "output_type": "execute_result"
    }
   ],
   "source": [
    "X_train.head()"
   ]
  },
  {
   "cell_type": "code",
   "execution_count": 27,
   "id": "e38f421a",
   "metadata": {},
   "outputs": [
    {
     "ename": "NameError",
     "evalue": "name 'mean_squared_error' is not defined",
     "output_type": "error",
     "traceback": [
      "\u001b[0;31m---------------------------------------------------------------------------\u001b[0m",
      "\u001b[0;31mNameError\u001b[0m                                 Traceback (most recent call last)",
      "Cell \u001b[0;32mIn[27], line 14\u001b[0m\n\u001b[1;32m     11\u001b[0m train_r2 \u001b[38;5;241m=\u001b[39m r2_score(y_train, y_train_pred)\n\u001b[1;32m     13\u001b[0m \u001b[38;5;66;03m# Calculate Mean Squared Errors\u001b[39;00m\n\u001b[0;32m---> 14\u001b[0m test_mse \u001b[38;5;241m=\u001b[39m mean_squared_error(y_test, y_test_pred)\n\u001b[1;32m     15\u001b[0m train_mse \u001b[38;5;241m=\u001b[39m mean_squared_error(y_train, y_train_pred)\n\u001b[1;32m     17\u001b[0m \u001b[38;5;66;03m# Print R-squared scores and MSE\u001b[39;00m\n",
      "\u001b[0;31mNameError\u001b[0m: name 'mean_squared_error' is not defined"
     ]
    }
   ],
   "source": [
    "# from sklearn.metrics import r2_score, mean_squared_error (already define above)\n",
    "\n",
    "# Linear Regression and Prediction\n",
    "lm_a = LinearRegression()\n",
    "lm_a.fit(X_train, y_train)\n",
    "y_test_pred = lm_a.predict(X_test)\n",
    "y_train_pred = lm_a.predict(X_train)\n",
    "\n",
    "# Calculate R-squared scores\n",
    "test_r2 = r2_score(y_test, y_test_pred)\n",
    "train_r2 = r2_score(y_train, y_train_pred)\n",
    "\n",
    "# Calculate Mean Squared Errors\n",
    "test_mse = mean_squared_error(y_test, y_test_pred)\n",
    "train_mse = mean_squared_error(y_train, y_train_pred)\n",
    "\n",
    "# Print R-squared scores and MSE\n",
    "print(\"Test R-squared Score:\", test_r2)\n",
    "print(\"Train R-squared Score:\", train_r2)\n",
    "print(\"Test Mean Squared Error:\", test_mse)\n",
    "print(\"Train Mean Squared Error:\", train_mse)\n",
    "\n",
    "# Append model \n",
    "models.append('Linear Regression 2')\n",
    "\n",
    "# Update the results lists with calculated metrics\n",
    "r2_i.append(test_r2)\n",
    "r2_r.append(train_r2)\n",
    "r_mean_squared_error.append(np.sqrt(test_mse))"
   ]
  },
  {
   "cell_type": "markdown",
   "id": "d7b1704b",
   "metadata": {},
   "source": [
    "# Ridge Regression "
   ]
  },
  {
   "cell_type": "code",
   "execution_count": 44,
   "id": "f7db8f71",
   "metadata": {},
   "outputs": [
    {
     "name": "stdout",
     "output_type": "stream",
     "text": [
      "Test R-squared Score (Ridge): 0.5355848845406523\n"
     ]
    },
    {
     "ename": "TypeError",
     "evalue": "'list' object is not callable",
     "output_type": "error",
     "traceback": [
      "\u001b[0;31m---------------------------------------------------------------------------\u001b[0m",
      "\u001b[0;31mTypeError\u001b[0m                                 Traceback (most recent call last)",
      "Cell \u001b[0;32mIn[44], line 18\u001b[0m\n\u001b[1;32m     15\u001b[0m \u001b[38;5;28mprint\u001b[39m(\u001b[38;5;124m\"\u001b[39m\u001b[38;5;124mTest R-squared Score (Ridge):\u001b[39m\u001b[38;5;124m\"\u001b[39m, r2_ridge_test)\n\u001b[1;32m     17\u001b[0m \u001b[38;5;66;03m# Calculate Mean Squared Error for the test set using the Ridge model\u001b[39;00m\n\u001b[0;32m---> 18\u001b[0m mse_ridge_test \u001b[38;5;241m=\u001b[39m r_mean_squared_error(y_test, lm_r\u001b[38;5;241m.\u001b[39mpredict(X_test_s))\n\u001b[1;32m     19\u001b[0m \u001b[38;5;28mprint\u001b[39m(\u001b[38;5;124m\"\u001b[39m\u001b[38;5;124mMean Squared Error (Test) - Ridge Regression:\u001b[39m\u001b[38;5;124m\"\u001b[39m, mse_ridge_test)\n\u001b[1;32m     21\u001b[0m \u001b[38;5;66;03m# Calculate R-squared score on the train set using the Ridge model\u001b[39;00m\n",
      "\u001b[0;31mTypeError\u001b[0m: 'list' object is not callable"
     ]
    }
   ],
   "source": [
    "from sklearn import preprocessing\n",
    "from sklearn.linear_model import Ridge\n",
    "\n",
    "# Standardize the features using StandardScaler\n",
    "scaler = preprocessing.StandardScaler().fit(X_train)\n",
    "X_train_s = scaler.transform(X_train)\n",
    "X_test_s = scaler.transform(X_test)\n",
    "\n",
    "# Create a Ridge regression model with fixed alpha of 0.5\n",
    "lm_r = Ridge(alpha=0.5)\n",
    "lm_r.fit(X_train_s, y_train)\n",
    "\n",
    "# Calculate R-squared score on the test set using the Ridge model\n",
    "r2_ridge_test = r2_score(y_test, lm_r.predict(X_test_s))\n",
    "print(\"Test R-squared Score (Ridge):\", r2_ridge_test)\n",
    "\n",
    "# Calculate Mean Squared Error for the test set using the Ridge model\n",
    "mse_ridge_test = r_mean_squared_error(y_test, lm_r.predict(X_test_s))\n",
    "print(\"Mean Squared Error (Test) - Ridge Regression:\", mse_ridge_test)\n",
    "\n",
    "# Calculate R-squared score on the train set using the Ridge model\n",
    "r2_ridge_train = r2_score(y_train, lm_r.predict(X_train_s))\n",
    "\n",
    "# Append model \n",
    "models.append('Ridge Regression')\n",
    "\n",
    "# Update the results lists with calculated metrics\n",
    "r2_i.append(r2_ridge_test)\n",
    "r2_r.append(r2_ridge_train)\n",
    "r_mean_squared_error.append(np.sqrt(mse_ridge_test))"
   ]
  },
  {
   "cell_type": "code",
   "execution_count": 29,
   "id": "ca540536",
   "metadata": {},
   "outputs": [
    {
     "name": "stdout",
     "output_type": "stream",
     "text": [
      "Max Test R-squared Score: 0.5258211812515299\n",
      "Selected Alpha: 0.41320124001153363\n"
     ]
    },
    {
     "ename": "NameError",
     "evalue": "name 'mean_squared_error' is not defined",
     "output_type": "error",
     "traceback": [
      "\u001b[0;31m---------------------------------------------------------------------------\u001b[0m",
      "\u001b[0;31mNameError\u001b[0m                                 Traceback (most recent call last)",
      "Cell \u001b[0;32mIn[29], line 34\u001b[0m\n\u001b[1;32m     31\u001b[0m train_r2_ridge_best \u001b[38;5;241m=\u001b[39m r2_score(y_train, y_train_pred_ridge_best)\n\u001b[1;32m     33\u001b[0m \u001b[38;5;66;03m# Calculate Mean Squared Errors\u001b[39;00m\n\u001b[0;32m---> 34\u001b[0m test_mse_ridge_best \u001b[38;5;241m=\u001b[39m mean_squared_error(y_test, y_test_pred_ridge_best)\n\u001b[1;32m     35\u001b[0m train_mse_ridge_best \u001b[38;5;241m=\u001b[39m mean_squared_error(y_train, y_train_pred_ridge_best)\n\u001b[1;32m     37\u001b[0m \u001b[38;5;28mprint\u001b[39m(\u001b[38;5;124m\"\u001b[39m\u001b[38;5;124mTest R-squared Score (Ridge Best):\u001b[39m\u001b[38;5;124m\"\u001b[39m, test_r2_ridge_best)\n",
      "\u001b[0;31mNameError\u001b[0m: name 'mean_squared_error' is not defined"
     ]
    },
    {
     "data": {
      "image/png": "[encoded data removed]",
      "text/plain": [
       "<Figure size 600x600 with 3 Axes>"
      ]
     },
     "metadata": {},
     "output_type": "display_data"
    }
   ],
   "source": [
    "from sklearn.model_selection import validation_curve\n",
    "# from sklearn.metrics import r2_score, mean_squared_error (already define above)\n",
    "\n",
    "param_range = np.logspace(-2, 8, 100)\n",
    "\n",
    "train_score, test_score = validation_curve(Ridge(), X_train, y_train,\n",
    "                                           param_name=\"alpha\",\n",
    "                                           param_range=param_range,\n",
    "                                           scoring=\"r2\")\n",
    "\n",
    "train_mean = np.mean(train_score, axis=1)\n",
    "test_mean = np.mean(test_score, axis=1)\n",
    "\n",
    "print(\"Max Test R-squared Score:\", max(test_mean))\n",
    "\n",
    "sns.jointplot(x=np.log(param_range), y=test_mean)\n",
    "\n",
    "best_alpha_idx = np.where(test_mean == max(test_mean))[0][0]\n",
    "selected_alpha = param_range[best_alpha_idx]\n",
    "print(\"Selected Alpha:\", selected_alpha)\n",
    "\n",
    "lm_r_best = Ridge(alpha=selected_alpha)\n",
    "lm_r_best.fit(X_train_s, y_train)\n",
    "\n",
    "# Make predictions using the best Ridge model\n",
    "y_test_pred_ridge_best = lm_r_best.predict(X_test_s)\n",
    "y_train_pred_ridge_best = lm_r_best.predict(X_train_s)\n",
    "\n",
    "# Calculate R-squared scores\n",
    "test_r2_ridge_best = r2_score(y_test, y_test_pred_ridge_best)\n",
    "train_r2_ridge_best = r2_score(y_train, y_train_pred_ridge_best)\n",
    "\n",
    "# Calculate Mean Squared Errors\n",
    "test_mse_ridge_best = mean_squared_error(y_test, y_test_pred_ridge_best)\n",
    "train_mse_ridge_best = mean_squared_error(y_train, y_train_pred_ridge_best)\n",
    "\n",
    "print(\"Test R-squared Score (Ridge Best):\", test_r2_ridge_best)\n",
    "print(\"Train R-squared Score (Ridge Best):\", train_r2_ridge_best)\n",
    "print(\"Test Mean Squared Error (Ridge Best):\", test_mse_ridge_best)\n",
    "print(\"Train Mean Squared Error (Ridge Best):\", train_mse_ridge_best)\n",
    "\n",
    "# Append model \n",
    "models.append('Ridge Regression (Best Alpha)')\n",
    "\n",
    "# Update the results lists with calculated metrics\n",
    "r2_i.append(test_r2_ridge_best)\n",
    "r2_r.append(train_r2_ridge_best)\n",
    "r_mean_squared_error.append(np.sqrt(test_mse_ridge_best))\n"
   ]
  },
  {
   "cell_type": "markdown",
   "id": "04a9104b",
   "metadata": {},
   "source": [
    "# Lasso Regression "
   ]
  },
  {
   "cell_type": "code",
   "execution_count": 43,
   "id": "a117793f",
   "metadata": {},
   "outputs": [
    {
     "name": "stdout",
     "output_type": "stream",
     "text": [
      "R-squared Score (Test) - Lasso Regression: 0.5356055546226256\n"
     ]
    },
    {
     "ename": "NameError",
     "evalue": "name 'mean_squared_error' is not defined",
     "output_type": "error",
     "traceback": [
      "\u001b[0;31m---------------------------------------------------------------------------\u001b[0m",
      "\u001b[0;31mNameError\u001b[0m                                 Traceback (most recent call last)",
      "Cell \u001b[0;32mIn[43], line 14\u001b[0m\n\u001b[1;32m     11\u001b[0m r2_lasso_train \u001b[38;5;241m=\u001b[39m r2_score(y_train, lm_l\u001b[38;5;241m.\u001b[39mpredict(X_train_s))\n\u001b[1;32m     13\u001b[0m \u001b[38;5;66;03m# Calculate Mean Squared Error for the test set using the Lasso model\u001b[39;00m\n\u001b[0;32m---> 14\u001b[0m mse_lasso_test \u001b[38;5;241m=\u001b[39m mean_squared_error(y_test, lm_l\u001b[38;5;241m.\u001b[39mpredict(X_test_s))\n\u001b[1;32m     15\u001b[0m \u001b[38;5;28mprint\u001b[39m(\u001b[38;5;124m\"\u001b[39m\u001b[38;5;124mMean Squared Error (Test) - Lasso Regression:\u001b[39m\u001b[38;5;124m\"\u001b[39m, mse_lasso_test)\n\u001b[1;32m     17\u001b[0m \u001b[38;5;66;03m# Perform GridSearchCV for Lasso regression\u001b[39;00m\n",
      "\u001b[0;31mNameError\u001b[0m: name 'mean_squared_error' is not defined"
     ]
    }
   ],
   "source": [
    "# Create a Lasso regression model with alpha=0.5\n",
    "lm_l = Lasso(alpha=0.5)\n",
    "\n",
    "# Fit the Lasso regression model on the scaled training data\n",
    "lm_l.fit(X_train_s, y_train)\n",
    "\n",
    "# Calculate R-squared score on the test set using the Lasso model\n",
    "r2_lasso_test = r2_score(y_test, lm_l.predict(X_test_s))\n",
    "print(\"R-squared Score (Test) - Lasso Regression:\", r2_lasso_test)\n",
    "\n",
    "r2_lasso_train = r2_score(y_train, lm_l.predict(X_train_s))\n",
    "\n",
    "# Calculate Mean Squared Error for the test set using the Lasso model\n",
    "mse_lasso_test = mean_squared_error(y_test, lm_l.predict(X_test_s))\n",
    "print(\"Mean Squared Error (Test) - Lasso Regression:\", mse_lasso_test)\n",
    "\n",
    "# Perform GridSearchCV for Lasso regression\n",
    "param_range = np.logspace(-2, 8, 100)\n",
    "train_score, test_score = validation_curve(Lasso(), X_train, y_train, param_name=\"alpha\", param_range=param_range, scoring=\"r2\")\n",
    "train_mean = np.mean(train_score, axis=1)\n",
    "test_mean = np.mean(test_score, axis=1)\n",
    "best_alpha_idx = np.where(test_mean == max(test_mean))[0][0]\n",
    "selected_alpha = param_range[best_alpha_idx]\n",
    "print(\"Selected Alpha:\", selected_alpha)\n",
    "\n",
    "# Create a Lasso regression model with the selected alpha\n",
    "lm_l_best = Lasso(alpha=selected_alpha)\n",
    "\n",
    "# Fit the Lasso regression model on the scaled training data\n",
    "lm_l_best.fit(X_train_s, y_train)\n",
    "\n",
    "# Calculate R-squared score on the test set using the optimized Lasso model\n",
    "r2_lasso_best_test = r2_score(y_test, lm_l_best.predict(X_test_s))\n",
    "print(\"R-squared Score (Test) - Optimized Lasso Regression:\", r2_lasso_best_test)\n",
    "\n",
    "# Calculate Mean Squared Error for the test set using the optimized Lasso model\n",
    "mse_lasso_best_test = mean_squared_error(y_test, lm_l_best.predict(X_test_s))\n",
    "print(\"Mean Squared Error (Test) - Optimized Lasso Regression:\", mse_lasso_best_test)\n",
    "\n",
    "# Calculate R-squared score on the train set using the optimized Lasso model\n",
    "r2_lasso_best_train = r2_score(y_train, lm_l_best.predict(X_train_s))\n",
    "\n",
    "# Append model\n",
    "models.append('Lasso Regression (Optimized Alpha)')\n",
    "models.append('Lasso Regression')\n",
    "\n",
    "# Update the results lists with calculated metrics\n",
    "r2_i.extend([r2_lasso_best_test,r2_lasso_test])\n",
    "r2_r.extend([r2_lasso_best_train,r2_lasso_train])\n",
    "r_mean_squared_error.extend([np.sqrt(mse_lasso_best_test),(np.sqrt(mse_lasso_test))])"
   ]
  },
  {
   "cell_type": "markdown",
   "id": "59c6ee69",
   "metadata": {},
   "source": [
    "# Decision Tree Bagging Regression "
   ]
  },
  {
   "cell_type": "code",
   "execution_count": 30,
   "id": "3433dcd4",
   "metadata": {},
   "outputs": [
    {
     "name": "stderr",
     "output_type": "stream",
     "text": [
      "/Users/nischaljain/anaconda3/lib/python3.11/site-packages/sklearn/ensemble/_base.py:156: FutureWarning: `base_estimator` was renamed to `estimator` in version 1.2 and will be removed in 1.4.\n",
      "  warnings.warn(\n"
     ]
    },
    {
     "name": "stdout",
     "output_type": "stream",
     "text": [
      "R-squared Score (Test) - Bagging Regressor: 0.6592363237694312\n"
     ]
    }
   ],
   "source": [
    "from sklearn import tree\n",
    "# from sklearn.metrics import r2_score (already define above)\n",
    "\n",
    "# Create a DecisionTreeRegressor\n",
    "clftree = tree.DecisionTreeRegressor()\n",
    "\n",
    "# Create a BaggingRegressor with DecisionTreeRegressor as the base estimator\n",
    "bag_clf = BaggingRegressor( base_estimator=clftree, \n",
    "                           n_estimators=1000, \n",
    "                           bootstrap=True, \n",
    "                           n_jobs=-1, \n",
    "                           random_state=42)\n",
    "\n",
    "# Fit the BaggingRegressor on the training data\n",
    "bag_clf.fit(X_train, y_train)\n",
    "\n",
    "# Calculate R-squared score on the test set using the BaggingRegressor\n",
    "r2_bagging_test = r2_score(y_test, bag_clf.predict(X_test))\n",
    "print(\"R-squared Score (Test) - Bagging Regressor:\", r2_bagging_test)"
   ]
  },
  {
   "cell_type": "code",
   "execution_count": 31,
   "id": "56fa5b05",
   "metadata": {},
   "outputs": [
    {
     "ename": "NameError",
     "evalue": "name 'GridSearchCV' is not defined",
     "output_type": "error",
     "traceback": [
      "\u001b[0;31m---------------------------------------------------------------------------\u001b[0m",
      "\u001b[0;31mNameError\u001b[0m                                 Traceback (most recent call last)",
      "Cell \u001b[0;32mIn[31], line 11\u001b[0m\n\u001b[1;32m      1\u001b[0m \u001b[38;5;66;03m# from sklearn.model_selection import GridSearchCV (already define above)\u001b[39;00m\n\u001b[1;32m      2\u001b[0m \u001b[38;5;66;03m# from sklearn.metrics import mean_squared_error   (already define above)\u001b[39;00m\n\u001b[1;32m      3\u001b[0m \n\u001b[1;32m      4\u001b[0m \u001b[38;5;66;03m# GridSearch for BaggingRegressor\u001b[39;00m\n\u001b[1;32m      5\u001b[0m param_grid_bagging \u001b[38;5;241m=\u001b[39m {\n\u001b[1;32m      6\u001b[0m     \u001b[38;5;124m'\u001b[39m\u001b[38;5;124mn_estimators\u001b[39m\u001b[38;5;124m'\u001b[39m: [\u001b[38;5;241m100\u001b[39m, \u001b[38;5;241m250\u001b[39m, \u001b[38;5;241m500\u001b[39m, \u001b[38;5;241m1000\u001b[39m],\n\u001b[1;32m      7\u001b[0m     \u001b[38;5;124m'\u001b[39m\u001b[38;5;124mmax_samples\u001b[39m\u001b[38;5;124m'\u001b[39m: [\u001b[38;5;241m0.5\u001b[39m, \u001b[38;5;241m0.7\u001b[39m, \u001b[38;5;241m0.8\u001b[39m],\n\u001b[1;32m      8\u001b[0m     \u001b[38;5;124m'\u001b[39m\u001b[38;5;124mmax_features\u001b[39m\u001b[38;5;124m'\u001b[39m: [\u001b[38;5;241m0.5\u001b[39m, \u001b[38;5;241m0.7\u001b[39m, \u001b[38;5;241m0.8\u001b[39m]\n\u001b[1;32m      9\u001b[0m }\n\u001b[0;32m---> 11\u001b[0m grid_s_bagging \u001b[38;5;241m=\u001b[39m GridSearchCV(estimator\u001b[38;5;241m=\u001b[39mBaggingRegressor(base_estimator\u001b[38;5;241m=\u001b[39mclftree, random_state\u001b[38;5;241m=\u001b[39m\u001b[38;5;241m42\u001b[39m),\n\u001b[1;32m     12\u001b[0m                                    param_grid\u001b[38;5;241m=\u001b[39mparam_grid_bagging,\n\u001b[1;32m     13\u001b[0m                                    scoring\u001b[38;5;241m=\u001b[39m\u001b[38;5;124m'\u001b[39m\u001b[38;5;124mr2\u001b[39m\u001b[38;5;124m'\u001b[39m,\n\u001b[1;32m     14\u001b[0m                                    n_jobs\u001b[38;5;241m=\u001b[39m\u001b[38;5;241m-\u001b[39m\u001b[38;5;241m1\u001b[39m,\n\u001b[1;32m     15\u001b[0m                                    cv\u001b[38;5;241m=\u001b[39m\u001b[38;5;241m5\u001b[39m)\n\u001b[1;32m     17\u001b[0m grid_s_bagging\u001b[38;5;241m.\u001b[39mfit(X_train, y_train)\n\u001b[1;32m     19\u001b[0m best_bagging_model \u001b[38;5;241m=\u001b[39m grid_s_bagging\u001b[38;5;241m.\u001b[39mbest_estimator_\n",
      "\u001b[0;31mNameError\u001b[0m: name 'GridSearchCV' is not defined"
     ]
    }
   ],
   "source": [
    "# from sklearn.model_selection import GridSearchCV (already define above)\n",
    "# from sklearn.metrics import mean_squared_error   (already define above)\n",
    "\n",
    "# GridSearch for BaggingRegressor\n",
    "param_grid_bagging = {\n",
    "    'n_estimators': [100, 250, 500, 1000],\n",
    "    'max_samples': [0.5, 0.7, 0.8],\n",
    "    'max_features': [0.5, 0.7, 0.8]\n",
    "}\n",
    "\n",
    "grid_s_bagging = GridSearchCV(estimator=BaggingRegressor(base_estimator=clftree, random_state=42),\n",
    "                                   param_grid=param_grid_bagging,\n",
    "                                   scoring='r2',\n",
    "                                   n_jobs=-1,\n",
    "                                   cv=5)\n",
    "\n",
    "grid_s_bagging.fit(X_train, y_train)\n",
    "\n",
    "best_bagging_model = grid_s_bagging.best_estimator_\n",
    "\n",
    "# Calculate R-squared score and MSE on the test set using the best BaggingRegressor\n",
    "y_test_pred_bagging = best_bagging_model.predict(X_test)\n",
    "r2_bagging_best_test = r2_score(y_test, y_test_pred_bagging)\n",
    "mse_bagging_best_test = mean_squared_error(y_test, y_test_pred_bagging)\n",
    "\n",
    "print(\"R-squared Score (Test) - Best Bagging Regressor:\", r2_bagging_best_test)\n",
    "print(\"Mean Squared Error (Test) - Best Bagging Regressor:\", mse_bagging_best_test)\n",
    "\n",
    "y_train_pred_bagging = best_bagging_model.predict(X_train)\n",
    "r2_bagging_best_train = r2_score(y_train, y_train_pred_bagging)\n",
    "\n",
    "# Append model name to the list\n",
    "models.append('Best Bagging Regressor')\n",
    "\n",
    "# Update the results lists with calculated metrics\n",
    "r2_i.append(r2_bagging_best_test)\n",
    "r2_r.append(r2_bagging_best_train)\n",
    "r_mean_squared_error.append(np.sqrt(mse_bagging_best_test))"
   ]
  },
  {
   "cell_type": "markdown",
   "id": "4a74a783",
   "metadata": {},
   "source": [
    "# Random Forest Regression "
   ]
  },
  {
   "cell_type": "code",
   "execution_count": 32,
   "id": "61906071",
   "metadata": {},
   "outputs": [
    {
     "name": "stdout",
     "output_type": "stream",
     "text": [
      "R-squared Score (Test) - RandomForest Regressor: 0.6608046638449792\n",
      "R-squared Score (Train) - RandomForest Regressor: 0.9507176176446364\n"
     ]
    },
    {
     "ename": "NameError",
     "evalue": "name 'GridSearchCV' is not defined",
     "output_type": "error",
     "traceback": [
      "\u001b[0;31m---------------------------------------------------------------------------\u001b[0m",
      "\u001b[0;31mNameError\u001b[0m                                 Traceback (most recent call last)",
      "Cell \u001b[0;32mIn[32], line 19\u001b[0m\n\u001b[1;32m     14\u001b[0m rf_clf \u001b[38;5;241m=\u001b[39m RandomForestRegressor(n_estimators\u001b[38;5;241m=\u001b[39m\u001b[38;5;241m1000\u001b[39m, random_state\u001b[38;5;241m=\u001b[39m\u001b[38;5;241m42\u001b[39m)\n\u001b[1;32m     15\u001b[0m params_grid \u001b[38;5;241m=\u001b[39m {\n\u001b[1;32m     16\u001b[0m     \u001b[38;5;124m\"\u001b[39m\u001b[38;5;124mmax_features\u001b[39m\u001b[38;5;124m\"\u001b[39m: [\u001b[38;5;241m4\u001b[39m, \u001b[38;5;241m5\u001b[39m, \u001b[38;5;241m6\u001b[39m, \u001b[38;5;241m7\u001b[39m, \u001b[38;5;241m8\u001b[39m, \u001b[38;5;241m9\u001b[39m, \u001b[38;5;241m10\u001b[39m],\n\u001b[1;32m     17\u001b[0m     \u001b[38;5;124m\"\u001b[39m\u001b[38;5;124mmin_samples_split\u001b[39m\u001b[38;5;124m\"\u001b[39m: [\u001b[38;5;241m2\u001b[39m, \u001b[38;5;241m3\u001b[39m, \u001b[38;5;241m10\u001b[39m]\n\u001b[1;32m     18\u001b[0m }\n\u001b[0;32m---> 19\u001b[0m grid_search \u001b[38;5;241m=\u001b[39m GridSearchCV(rf_clf, params_grid, n_jobs\u001b[38;5;241m=\u001b[39m\u001b[38;5;241m-\u001b[39m\u001b[38;5;241m1\u001b[39m, cv\u001b[38;5;241m=\u001b[39m\u001b[38;5;241m5\u001b[39m, scoring\u001b[38;5;241m=\u001b[39m\u001b[38;5;124m'\u001b[39m\u001b[38;5;124mr2\u001b[39m\u001b[38;5;124m'\u001b[39m)\n\u001b[1;32m     20\u001b[0m grid_search\u001b[38;5;241m.\u001b[39mfit(X_train, y_train)\n\u001b[1;32m     21\u001b[0m cvrf_clf \u001b[38;5;241m=\u001b[39m grid_search\u001b[38;5;241m.\u001b[39mbest_estimator_\n",
      "\u001b[0;31mNameError\u001b[0m: name 'GridSearchCV' is not defined"
     ]
    }
   ],
   "source": [
    "# Create a RandomForestRegressor with 1000 estimators\n",
    "rf_clf = RandomForestRegressor(n_estimators=1000, n_jobs=-1, random_state=42)\n",
    "\n",
    "# Fit the RandomForestRegressor on the training data\n",
    "rf_clf.fit(X_train, y_train)\n",
    "\n",
    "# Calculate R-squared score on the test and train set using the RandomForestRegressor\n",
    "r2_rf_test = r2_score(y_test, rf_clf.predict(X_test))\n",
    "r2_rf_train = r2_score(y_train, rf_clf.predict(X_train))\n",
    "print(\"R-squared Score (Test) - RandomForest Regressor:\", r2_rf_test)\n",
    "print(\"R-squared Score (Train) - RandomForest Regressor:\", r2_rf_train)\n",
    "\n",
    "# Perform GridSearchCV for RandomForestRegressor\n",
    "rf_clf = RandomForestRegressor(n_estimators=1000, random_state=42)\n",
    "params_grid = {\n",
    "    \"max_features\": [4, 5, 6, 7, 8, 9, 10],\n",
    "    \"min_samples_split\": [2, 3, 10]\n",
    "}\n",
    "grid_search = GridSearchCV(rf_clf, params_grid, n_jobs=-1, cv=5, scoring='r2')\n",
    "grid_search.fit(X_train, y_train)\n",
    "cvrf_clf = grid_search.best_estimator_\n",
    "\n",
    "# Calculate R-squared score on the test and train set using the optimized RandomForestRegressor\n",
    "r2_cv_rf_test = r2_score(y_test, cvrf_clf.predict(X_test))\n",
    "r2_cv_rf_train = r2_score(y_train, cvrf_clf.predict(X_train))\n",
    "print(\"R-squared Score (Test) - Optimized RandomForest Regressor:\", r2_cv_rf_test)\n",
    "print(\"R-squared Score (Train) - Optimized RandomForest Regressor:\", r2_cv_rf_train)\n",
    "\n",
    "# Import the mean_squared_error function\n",
    "# from sklearn.metrics import mean_squared_error (already define above)\n",
    "\n",
    "# Fit the RandomForestRegressor on the training data\n",
    "rf_clf.fit(X_train, y_train)\n",
    "\n",
    "# Calculate Mean Squared Error for the test set using the RandomForestRegressor\n",
    "mse_rf_test = mean_squared_error(y_test, rf_clf.predict(X_test))\n",
    "print(\"Mean Squared Error (Test) - RandomForest Regressor:\", mse_rf_test)\n",
    "\n",
    "# Calculate Mean Squared Error for the train set using the RandomForestRegressor\n",
    "mse_rf_train = mean_squared_error(y_train, rf_clf.predict(X_train))\n",
    "print(\"Mean Squared Error (Train) - RandomForest Regressor:\", mse_rf_train)\n",
    "\n",
    "# Calculate Mean Squared Error for the test set using the optimized RandomForestRegressor\n",
    "mse_cv_rf_test = mean_squared_error(y_test, cvrf_clf.predict(X_test))\n",
    "print(\"Mean Squared Error (Test) - Optimized RandomForest Regressor:\", mse_cv_rf_test)\n",
    "\n",
    "# Calculate Mean Squared Error for the train set using the optimized RandomForestRegressor\n",
    "mse_cv_rf_train = mean_squared_error(y_train, cvrf_clf.predict(X_train))\n",
    "print(\"Mean Squared Error (Train) - Optimized RandomForest Regressor:\", mse_cv_rf_train)"
   ]
  },
  {
   "cell_type": "code",
   "execution_count": 33,
   "id": "3aca5ffd",
   "metadata": {},
   "outputs": [
    {
     "ename": "NameError",
     "evalue": "name 'r2_cv_rf_test' is not defined",
     "output_type": "error",
     "traceback": [
      "\u001b[0;31m---------------------------------------------------------------------------\u001b[0m",
      "\u001b[0;31mNameError\u001b[0m                                 Traceback (most recent call last)",
      "Cell \u001b[0;32mIn[33], line 6\u001b[0m\n\u001b[1;32m      3\u001b[0m models\u001b[38;5;241m.\u001b[39mappend(\u001b[38;5;124m'\u001b[39m\u001b[38;5;124mOptimized RandomForest Regressor\u001b[39m\u001b[38;5;124m'\u001b[39m)\n\u001b[1;32m      5\u001b[0m \u001b[38;5;66;03m# Update the results lists with calculated metrics for both models\u001b[39;00m\n\u001b[0;32m----> 6\u001b[0m r2_i\u001b[38;5;241m.\u001b[39mextend([r2_rf_test, r2_cv_rf_test])\n\u001b[1;32m      7\u001b[0m r2_r\u001b[38;5;241m.\u001b[39mextend([r2_rf_train, r2_cv_rf_train])\n\u001b[1;32m      8\u001b[0m r_mean_squared_error\u001b[38;5;241m.\u001b[39mextend([np\u001b[38;5;241m.\u001b[39msqrt(mse_rf_test), np\u001b[38;5;241m.\u001b[39msqrt(mse_cv_rf_test)])\n",
      "\u001b[0;31mNameError\u001b[0m: name 'r2_cv_rf_test' is not defined"
     ]
    }
   ],
   "source": [
    "# Append model \n",
    "models.append('RandomForest Regressor')\n",
    "models.append('Optimized RandomForest Regressor')\n",
    "\n",
    "# Update the results lists with calculated metrics for both models\n",
    "r2_i.extend([r2_rf_test, r2_cv_rf_test])\n",
    "r2_r.extend([r2_rf_train, r2_cv_rf_train])\n",
    "r_mean_squared_error.extend([np.sqrt(mse_rf_test), np.sqrt(mse_cv_rf_test)])"
   ]
  },
  {
   "cell_type": "markdown",
   "id": "356c97d6",
   "metadata": {},
   "source": [
    "# Gradient Boosting Regression"
   ]
  },
  {
   "cell_type": "code",
   "execution_count": 34,
   "id": "eb888fa0",
   "metadata": {},
   "outputs": [
    {
     "name": "stdout",
     "output_type": "stream",
     "text": [
      "R-squared Score (Test) - GradientBoosting Regressor: 0.6121199544893507\n"
     ]
    },
    {
     "ename": "NameError",
     "evalue": "name 'mean_squared_error' is not defined",
     "output_type": "error",
     "traceback": [
      "\u001b[0;31m---------------------------------------------------------------------------\u001b[0m",
      "\u001b[0;31mNameError\u001b[0m                                 Traceback (most recent call last)",
      "Cell \u001b[0;32mIn[34], line 15\u001b[0m\n\u001b[1;32m     12\u001b[0m \u001b[38;5;28mprint\u001b[39m(\u001b[38;5;124m\"\u001b[39m\u001b[38;5;124mR-squared Score (Test) - GradientBoosting Regressor:\u001b[39m\u001b[38;5;124m\"\u001b[39m, r2_gbc_test)\n\u001b[1;32m     14\u001b[0m \u001b[38;5;66;03m# Calculate Mean Squared Error for the test set using the GradientBoostingRegressor\u001b[39;00m\n\u001b[0;32m---> 15\u001b[0m mse_gbc_test \u001b[38;5;241m=\u001b[39m mean_squared_error(y_test, gbc_clf\u001b[38;5;241m.\u001b[39mpredict(X_test))\n\u001b[1;32m     16\u001b[0m \u001b[38;5;28mprint\u001b[39m(\u001b[38;5;124m\"\u001b[39m\u001b[38;5;124mMean Squared Error (Test) - GradientBoosting Regressor:\u001b[39m\u001b[38;5;124m\"\u001b[39m, mse_gbc_test)\n\u001b[1;32m     18\u001b[0m \u001b[38;5;66;03m# Create a GradientBoostingRegressor with custom parameters\u001b[39;00m\n",
      "\u001b[0;31mNameError\u001b[0m: name 'mean_squared_error' is not defined"
     ]
    }
   ],
   "source": [
    "# from sklearn.model_selection import GridSearchCV (already define above)\n",
    "from sklearn.ensemble import GradientBoostingRegressor\n",
    "\n",
    "# Create a GradientBoostingRegressor\n",
    "gbc_clf = GradientBoostingRegressor()\n",
    "\n",
    "# Fit the GradientBoostingRegressor on the training data\n",
    "gbc_clf.fit(X_train, y_train)\n",
    "\n",
    "# Calculate R-squared score on the test set using the GradientBoostingRegressor\n",
    "r2_gbc_test = r2_score(y_test, gbc_clf.predict(X_test))\n",
    "print(\"R-squared Score (Test) - GradientBoosting Regressor:\", r2_gbc_test)\n",
    "\n",
    "# Calculate Mean Squared Error for the test set using the GradientBoostingRegressor\n",
    "mse_gbc_test = mean_squared_error(y_test, gbc_clf.predict(X_test))\n",
    "print(\"Mean Squared Error (Test) - GradientBoosting Regressor:\", mse_gbc_test)\n",
    "\n",
    "# Create a GradientBoostingRegressor with custom parameters\n",
    "gbc_clf2 = GradientBoostingRegressor(learning_rate=0.02, n_estimators=1000, max_depth=1)\n",
    "\n",
    "# Fit the GradientBoostingRegressor with custom parameters on the training data\n",
    "gbc_clf2.fit(X_train, y_train)\n",
    "\n",
    "# Calculate R-squared score on the train set using the GradientBoostingRegressor with custom parameters\n",
    "r2_gbc_train2 = r2_score(y_train, gbc_clf2.predict(X_train))\n",
    "print(\"R-squared Score (Train) - Custom GradientBoosting Regressor:\", r2_gbc_train2)\n",
    "\n",
    "# Calculate R-squared score on the test set using the GradientBoostingRegressor with custom parameters\n",
    "r2_gbc_test2 = r2_score(y_test, gbc_clf2.predict(X_test))\n",
    "print(\"R-squared Score (Test) - Custom GradientBoosting Regressor:\", r2_gbc_test2)\n",
    "\n",
    "# Calculate Mean Squared Error for the test set using the GradientBoostingRegressor with custom parameters\n",
    "mse_gbc_test2 = mean_squared_error(y_test, gbc_clf2.predict(X_test))\n",
    "print(\"Mean Squared Error (Test) - Custom GradientBoosting Regressor:\", mse_gbc_test2)\n",
    "\n",
    "# Define parameter grid for GridSearchCV\n",
    "param_grid_gbc = {\n",
    "    'n_estimators': [100, 250, 500],\n",
    "    'learning_rate': [0.01, 0.1, 0.2],\n",
    "    'max_depth': [1, 3, 5]\n",
    "}\n",
    "\n",
    "# Create GridSearchCV\n",
    "grid_s_gbc = GridSearchCV(estimator=GradientBoostingRegressor(),\n",
    "                                param_grid=param_grid_gbc,\n",
    "                                scoring='r2',\n",
    "                                n_jobs=-1,\n",
    "                                cv=5)\n",
    "\n",
    "# Fit GridSearchCV on the training data\n",
    "grid_s_gbc.fit(X_train, y_train)\n",
    "\n",
    "# Get best GradientBoostingRegressor model from GridSearchCV\n",
    "best_gbc_model = grid_s_gbc.best_estimator_\n",
    "\n",
    "# Calculate R-squared score on the test set using the best GradientBoostingRegressor\n",
    "r2_best_gbc_test = r2_score(y_test, best_gbc_model.predict(X_test))\n",
    "print(\"R-squared Score (Test) - Best GradientBoosting Regressor:\", r2_best_gbc_test)\n",
    "\n",
    "# Calculate Mean Squared Error for the test set using the best GradientBoostingRegressor\n",
    "mse_best_gbc_test = mean_squared_error(y_test, best_gbc_model.predict(X_test))\n",
    "print(\"Mean Squared Error (Test) - Best GradientBoosting Regressor:\", mse_best_gbc_test)\n",
    "\n",
    "# Append model\n",
    "models.append('GradientBoosting Regressor')\n",
    "models.append('Custom GradientBoosting Regressor')\n",
    "models.append('Best GradientBoosting Regressor')\n",
    "\n",
    "# Update the results lists with calculated metrics for all models\n",
    "r2_i.extend([r2_gbc_test, r2_gbc_test2, r2_best_gbc_test])\n",
    "r2_r.extend([r2_gbc_train2, r2_gbc_test2, r2_best_gbc_test])\n",
    "r_mean_squared_error.extend([np.sqrt(mse_gbc_test), np.sqrt(mse_gbc_test2), np.sqrt(mse_best_gbc_test)])"
   ]
  },
  {
   "cell_type": "markdown",
   "id": "d20b60b3",
   "metadata": {},
   "source": [
    "# ADA Boosting Regression"
   ]
  },
  {
   "cell_type": "code",
   "execution_count": 35,
   "id": "e64d9ae6",
   "metadata": {},
   "outputs": [
    {
     "name": "stdout",
     "output_type": "stream",
     "text": [
      "R-squared Score (Train) - AdaBoost Regressor: 0.6253377190755374\n",
      "R-squared Score (Test) - AdaBoost Regressor: 0.5957962104078074\n"
     ]
    },
    {
     "ename": "NameError",
     "evalue": "name 'GridSearchCV' is not defined",
     "output_type": "error",
     "traceback": [
      "\u001b[0;31m---------------------------------------------------------------------------\u001b[0m",
      "\u001b[0;31mNameError\u001b[0m                                 Traceback (most recent call last)",
      "Cell \u001b[0;32mIn[35], line 25\u001b[0m\n\u001b[1;32m     19\u001b[0m param_grid_ada \u001b[38;5;241m=\u001b[39m {\n\u001b[1;32m     20\u001b[0m     \u001b[38;5;124m'\u001b[39m\u001b[38;5;124mn_estimators\u001b[39m\u001b[38;5;124m'\u001b[39m: [\u001b[38;5;241m100\u001b[39m, \u001b[38;5;241m250\u001b[39m, \u001b[38;5;241m500\u001b[39m],\n\u001b[1;32m     21\u001b[0m     \u001b[38;5;124m'\u001b[39m\u001b[38;5;124mlearning_rate\u001b[39m\u001b[38;5;124m'\u001b[39m: [\u001b[38;5;241m0.01\u001b[39m, \u001b[38;5;241m0.1\u001b[39m, \u001b[38;5;241m0.2\u001b[39m]\n\u001b[1;32m     22\u001b[0m }\n\u001b[1;32m     24\u001b[0m \u001b[38;5;66;03m# Create GridSearchCV\u001b[39;00m\n\u001b[0;32m---> 25\u001b[0m grid_search_ada \u001b[38;5;241m=\u001b[39m GridSearchCV(estimator\u001b[38;5;241m=\u001b[39mAdaBoostRegressor(),\n\u001b[1;32m     26\u001b[0m                                 param_grid\u001b[38;5;241m=\u001b[39mparam_grid_ada,\n\u001b[1;32m     27\u001b[0m                                 scoring\u001b[38;5;241m=\u001b[39m\u001b[38;5;124m'\u001b[39m\u001b[38;5;124mr2\u001b[39m\u001b[38;5;124m'\u001b[39m,\n\u001b[1;32m     28\u001b[0m                                 n_jobs\u001b[38;5;241m=\u001b[39m\u001b[38;5;241m-\u001b[39m\u001b[38;5;241m1\u001b[39m,\n\u001b[1;32m     29\u001b[0m                                 cv\u001b[38;5;241m=\u001b[39m\u001b[38;5;241m5\u001b[39m)\n\u001b[1;32m     31\u001b[0m \u001b[38;5;66;03m# Fit GridSearchCV on the training data\u001b[39;00m\n\u001b[1;32m     32\u001b[0m grid_search_ada\u001b[38;5;241m.\u001b[39mfit(X_train, y_train)\n",
      "\u001b[0;31mNameError\u001b[0m: name 'GridSearchCV' is not defined"
     ]
    }
   ],
   "source": [
    "# from sklearn.model_selection import GridSearchCV (already define above)\n",
    "from sklearn.ensemble import AdaBoostRegressor\n",
    "\n",
    "# Create an AdaBoostRegressor with custom parameters\n",
    "ada_clf = AdaBoostRegressor(learning_rate=0.05, n_estimators=1000)\n",
    "\n",
    "# Fit the AdaBoostRegressor on the training data\n",
    "ada_clf.fit(X_train, y_train)\n",
    "\n",
    "# Calculate R-squared score on the train set using the AdaBoostRegressor\n",
    "r2_ada_train = r2_score(y_train, ada_clf.predict(X_train))\n",
    "print(\"R-squared Score (Train) - AdaBoost Regressor:\", r2_ada_train)\n",
    "\n",
    "# Calculate R-squared score on the test set using the AdaBoostRegressor\n",
    "r2_ada_test = r2_score(y_test, ada_clf.predict(X_test))\n",
    "print(\"R-squared Score (Test) - AdaBoost Regressor:\", r2_ada_test)\n",
    "\n",
    "# Define parameter grid for GridSearchCV\n",
    "param_grid_ada = {\n",
    "    'n_estimators': [100, 250, 500],\n",
    "    'learning_rate': [0.01, 0.1, 0.2]\n",
    "}\n",
    "\n",
    "# Create GridSearchCV\n",
    "grid_search_ada = GridSearchCV(estimator=AdaBoostRegressor(),\n",
    "                                param_grid=param_grid_ada,\n",
    "                                scoring='r2',\n",
    "                                n_jobs=-1,\n",
    "                                cv=5)\n",
    "\n",
    "# Fit GridSearchCV on the training data\n",
    "grid_search_ada.fit(X_train, y_train)\n",
    "\n",
    "# Get best AdaBoostRegressor model from GridSearchCV\n",
    "best_ada_model = grid_search_ada.best_estimator_\n",
    "\n",
    "# Calculate R-squared score on the test set using the best AdaBoostRegressor\n",
    "r2_best_ada_test = r2_score(y_test, best_ada_model.predict(X_test))\n",
    "print(\"R-squared Score (Test) - Best AdaBoost Regressor:\", r2_best_ada_test)\n",
    "\n",
    "# Calculate Mean Squared Error for the test set using the best AdaBoostRegressor\n",
    "mse_best_ada_test = mean_squared_error(y_test, best_ada_model.predict(X_test))\n",
    "print(\"Mean Squared Error (Test) - Best AdaBoost Regressor:\", mse_best_ada_test)\n",
    "\n",
    "# Import the mean_squared_error function\n",
    "from sklearn.metrics import mean_squared_error\n",
    "\n",
    "# Calculate Mean Squared Error for the train set using the AdaBoostRegressor\n",
    "mse_ada_train = mean_squared_error(y_train, ada_clf.predict(X_train))\n",
    "print(\"Mean Squared Error (Train) - AdaBoost Regressor:\", mse_ada_train)\n",
    "\n",
    "# Calculate Mean Squared Error for the test set using the AdaBoostRegressor\n",
    "mse_ada_test = mean_squared_error(y_test, ada_clf.predict(X_test))\n",
    "print(\"Mean Squared Error (Test) - AdaBoost Regressor:\", mse_ada_test)\n",
    "\n",
    "\n",
    "# Get feature importances from the AdaBoostRegressor\n",
    "feature_importances = ada_clf.feature_importances_\n",
    "\n",
    "# Get the names of the features\n",
    "feature_names = X_train.columns\n",
    "\n",
    "# Sort feature importances in descending order\n",
    "sorted_idx = feature_importances.argsort()[::-1]\n",
    "\n",
    "# Plot feature importances\n",
    "plt.figure(figsize=(10, 6))\n",
    "plt.bar(range(X_train.shape[1]), feature_importances[sorted_idx])\n",
    "plt.xticks(range(X_train.shape[1]), feature_names[sorted_idx], rotation=90)\n",
    "plt.xlabel(\"Features\")\n",
    "plt.ylabel(\"Feature Importance\")\n",
    "plt.title(\"Feature Importance - ADABoost Regressor\")\n",
    "plt.tight_layout()\n",
    "plt.show()\n",
    "\n",
    "# Append model\n",
    "models.append('AdaBoost Regressor')\n",
    "models.append('Best AdaBoost Regressor')\n",
    "\n",
    "# Update the results lists with calculated metrics for all models\n",
    "r2_i.extend([r2_ada_test, r2_best_ada_test])\n",
    "r2_r.extend([r2_ada_train, r2_best_ada_test])\n",
    "r_mean_squared_error.extend([np.sqrt(mse_ada_test), np.sqrt(mse_best_ada_test)])"
   ]
  },
  {
   "cell_type": "markdown",
   "id": "5153d428",
   "metadata": {},
   "source": [
    "# XG Boosting Regression "
   ]
  },
  {
   "cell_type": "code",
   "execution_count": 36,
   "id": "8a5843b0",
   "metadata": {},
   "outputs": [
    {
     "ename": "NameError",
     "evalue": "name 'xgb' is not defined",
     "output_type": "error",
     "traceback": [
      "\u001b[0;31m---------------------------------------------------------------------------\u001b[0m",
      "\u001b[0;31mNameError\u001b[0m                                 Traceback (most recent call last)",
      "Cell \u001b[0;32mIn[36], line 2\u001b[0m\n\u001b[1;32m      1\u001b[0m \u001b[38;5;66;03m# Create an XGBoost regressor\u001b[39;00m\n\u001b[0;32m----> 2\u001b[0m xgb_clf \u001b[38;5;241m=\u001b[39m xgb\u001b[38;5;241m.\u001b[39mXGBRegressor(max_depth\u001b[38;5;241m=\u001b[39m\u001b[38;5;241m5\u001b[39m, n_estimators\u001b[38;5;241m=\u001b[39m\u001b[38;5;241m500\u001b[39m, learning_rate\u001b[38;5;241m=\u001b[39m\u001b[38;5;241m0.1\u001b[39m, n_jobs\u001b[38;5;241m=\u001b[39m\u001b[38;5;241m-\u001b[39m\u001b[38;5;241m1\u001b[39m)\n\u001b[1;32m      4\u001b[0m \u001b[38;5;66;03m# Fit the XGBoost regressor on the training data\u001b[39;00m\n\u001b[1;32m      5\u001b[0m xgb_clf\u001b[38;5;241m.\u001b[39mfit(X_train, y_train)\n",
      "\u001b[0;31mNameError\u001b[0m: name 'xgb' is not defined"
     ]
    }
   ],
   "source": [
    "# Create an XGBoost regressor\n",
    "xgb_clf = xgb.XGBRegressor(max_depth=5, n_estimators=500, learning_rate=0.1, n_jobs=-1)\n",
    "\n",
    "# Fit the XGBoost regressor on the training data\n",
    "xgb_clf.fit(X_train, y_train)\n",
    "\n",
    "# Calculate R-squared score on the test set using the XGBoost regressor\n",
    "r2_xgb_test = r2_score(y_test, xgb_clf.predict(X_test))\n",
    "print(\"R-squared Score (Test) - XGBoost Regressor:\", r2_xgb_test)\n",
    "\n",
    "# Plot feature importance using XGBoost's built-in method\n",
    "xgb.plot_importance(xgb_clf)\n",
    "\n",
    "# Append model results to lists\n",
    "models.append(\"XGBoost Regressor\")\n",
    "r_mean_squared_error.append(np.sqrt(mean_squared_error(y_test, xgb_clf.predict(X_test))))\n",
    "r2_i.append(r2_xgb_test)\n",
    "r2_r.append(xgb_clf.score(X_train, y_train))"
   ]
  },
  {
   "cell_type": "code",
   "execution_count": 40,
   "id": "d05cfd94",
   "metadata": {},
   "outputs": [
    {
     "ename": "NameError",
     "evalue": "name 'GridSearchCV' is not defined",
     "output_type": "error",
     "traceback": [
      "\u001b[0;31m---------------------------------------------------------------------------\u001b[0m",
      "\u001b[0;31mNameError\u001b[0m                                 Traceback (most recent call last)",
      "Cell \u001b[0;32mIn[40], line 11\u001b[0m\n\u001b[1;32m      2\u001b[0m param_test1 \u001b[38;5;241m=\u001b[39m {\n\u001b[1;32m      3\u001b[0m     \u001b[38;5;124m'\u001b[39m\u001b[38;5;124mmax_depth\u001b[39m\u001b[38;5;124m'\u001b[39m: \u001b[38;5;28mrange\u001b[39m(\u001b[38;5;241m3\u001b[39m, \u001b[38;5;241m10\u001b[39m, \u001b[38;5;241m2\u001b[39m),\n\u001b[1;32m      4\u001b[0m     \u001b[38;5;124m'\u001b[39m\u001b[38;5;124mgamma\u001b[39m\u001b[38;5;124m'\u001b[39m: [\u001b[38;5;241m0.1\u001b[39m, \u001b[38;5;241m0.2\u001b[39m, \u001b[38;5;241m0.3\u001b[39m],\n\u001b[0;32m   (...)\u001b[0m\n\u001b[1;32m      7\u001b[0m     \u001b[38;5;124m'\u001b[39m\u001b[38;5;124mreg_alpha\u001b[39m\u001b[38;5;124m'\u001b[39m: [\u001b[38;5;241m1e-2\u001b[39m, \u001b[38;5;241m0.1\u001b[39m, \u001b[38;5;241m1\u001b[39m]\n\u001b[1;32m      8\u001b[0m }\n\u001b[1;32m     10\u001b[0m \u001b[38;5;66;03m# Create a GridSearchCV instance for XGBoost regressor\u001b[39;00m\n\u001b[0;32m---> 11\u001b[0m grid_search \u001b[38;5;241m=\u001b[39m GridSearchCV(xgb_clf, param_test1, n_jobs\u001b[38;5;241m=\u001b[39m\u001b[38;5;241m-\u001b[39m\u001b[38;5;241m1\u001b[39m, cv\u001b[38;5;241m=\u001b[39m\u001b[38;5;241m5\u001b[39m, scoring\u001b[38;5;241m=\u001b[39m\u001b[38;5;124m'\u001b[39m\u001b[38;5;124mr2\u001b[39m\u001b[38;5;124m'\u001b[39m)\n",
      "\u001b[0;31mNameError\u001b[0m: name 'GridSearchCV' is not defined"
     ]
    }
   ],
   "source": [
    "# Create a parameter grid for GridSearchCV\n",
    "param_test1 = {\n",
    "    'max_depth': range(3, 10, 2),\n",
    "    'gamma': [0.1, 0.2, 0.3],\n",
    "    'subsample': [0.8, 0.9],\n",
    "    'colsample_bytree': [0.8, 0.9],\n",
    "    'reg_alpha': [1e-2, 0.1, 1]\n",
    "}\n",
    "\n",
    "# Create a GridSearchCV instance for XGBoost regressor\n",
    "grid_search = GridSearchCV(xgb_clf, param_test1, n_jobs=-1, cv=5, scoring='r2')\n"
   ]
  },
  {
   "cell_type": "code",
   "execution_count": 32,
   "id": "1a4e26ec",
   "metadata": {
    "scrolled": true
   },
   "outputs": [
    {
     "data": {
      "text/plain": [
       "GridSearchCV(cv=5,\n",
       "             estimator=XGBRegressor(base_score=None, booster=None,\n",
       "                                    callbacks=None, colsample_bylevel=None,\n",
       "                                    colsample_bynode=None,\n",
       "                                    colsample_bytree=None,\n",
       "                                    early_stopping_rounds=None,\n",
       "                                    enable_categorical=False, eval_metric=None,\n",
       "                                    feature_types=None, gamma=None, gpu_id=None,\n",
       "                                    grow_policy=None, importance_type=None,\n",
       "                                    interaction_constraints=None,\n",
       "                                    learning_rate=0.1, ma...\n",
       "                                    max_cat_to_onehot=None, max_delta_step=None,\n",
       "                                    max_depth=5, max_leaves=None,\n",
       "                                    min_child_weight=None, missing=nan,\n",
       "                                    monotone_constraints=None, n_estimators=500,\n",
       "                                    n_jobs=-1, num_parallel_tree=None,\n",
       "                                    predictor=None, random_state=None, ...),\n",
       "             n_jobs=-1,\n",
       "             param_grid={'colsample_bytree': [0.8, 0.9],\n",
       "                         'gamma': [0.1, 0.2, 0.3], 'max_depth': range(3, 10, 2),\n",
       "                         'reg_alpha': [0.01, 0.1, 1], 'subsample': [0.8, 0.9]},\n",
       "             scoring='r2')"
      ]
     },
     "execution_count": 32,
     "metadata": {},
     "output_type": "execute_result"
    }
   ],
   "source": [
    "# Fit the GridSearchCV instance to the training data\n",
    "grid_search.fit(X_train, y_train)"
   ]
  },
  {
   "cell_type": "code",
   "execution_count": 33,
   "id": "43a2b2f8",
   "metadata": {},
   "outputs": [
    {
     "name": "stdout",
     "output_type": "stream",
     "text": [
      "Best Parameters: {'colsample_bytree': 0.9, 'gamma': 0.3, 'max_depth': 9, 'reg_alpha': 1, 'subsample': 0.9}\n",
      "R-squared Score (Test) - Best Model: 0.6635200788100373\n",
      "R-squared Score (Train) - Best Model: 0.9999993339927554\n",
      "Mean Squared Error (Test) - XGBoost Regressor: 55891034.94435458\n",
      "Mean Squared Error (Test) - Best Model: 49928375.12600299\n",
      "Mean Squared Error (Train) - Best Model: 107.11321826162298\n"
     ]
    },
    {
     "data": {
      "image/png": "[encoded data removed]",
      "text/plain": [
       "<Figure size 640x480 with 1 Axes>"
      ]
     },
     "metadata": {},
     "output_type": "display_data"
    }
   ],
   "source": [
    "# Get the best parameters from GridSearchCV\n",
    "best_params = grid_search.best_params_\n",
    "\n",
    "# Print the best parameters\n",
    "print(\"Best Parameters:\", best_params)\n",
    "\n",
    "# Get the best model with the best parameters\n",
    "best_model = grid_search.best_estimator_\n",
    "\n",
    "# Calculate R-squared score for the test set using the best model\n",
    "y_pred_test = best_model.predict(X_test)\n",
    "r2_test_best = r2_score(y_test, y_pred_test)\n",
    "print(\"R-squared Score (Test) - Best Model:\", r2_test_best)\n",
    "\n",
    "# Calculate R-squared score for the train set using the best model\n",
    "y_pred_train_best = best_model.predict(X_train)\n",
    "r2_train_best = r2_score(y_train, y_pred_train_best)\n",
    "print(\"R-squared Score (Train) - Best Model:\", r2_train_best)\n",
    "\n",
    "# Calculate Mean Squared Error for the test set using the XGBoost regressor\n",
    "mse_xgb_test = mean_squared_error(y_test, xgb_clf.predict(X_test))\n",
    "print(\"Mean Squared Error (Test) - XGBoost Regressor:\", mse_xgb_test)\n",
    "\n",
    "# Calculate Mean Squared Error for the test set using the best model\n",
    "mse_test_best = mean_squared_error(y_test, y_pred_test)\n",
    "print(\"Mean Squared Error (Test) - Best Model:\", mse_test_best)\n",
    "\n",
    "# Calculate Mean Squared Error for the train set using the best model\n",
    "mse_train_best = mean_squared_error(y_train, y_pred_train_best)\n",
    "print(\"Mean Squared Error (Train) - Best Model:\", mse_train_best)\n",
    "\n",
    "#plot the feature importance for the Xgboost best model\n",
    "xgb.plot_importance(best_model)\n",
    "\n",
    "\n",
    "# Append model\n",
    "models.append('XGBoost Best Model')\n",
    "\n",
    "# Update the results lists with calculated metrics for the best model\n",
    "r2_i.append(r2_test_best)\n",
    "r2_r.append(r2_train_best)\n",
    "r_mean_squared_error.append(np.sqrt(mse_test_best))"
   ]
  },
  {
   "cell_type": "markdown",
   "id": "0f705391",
   "metadata": {},
   "source": [
    "# Prediction "
   ]
  },
  {
   "cell_type": "code",
   "execution_count": 34,
   "id": "8bac4e0f",
   "metadata": {},
   "outputs": [
    {
     "data": {
      "text/html": [
       "<div>\n",
       "<style scoped>\n",
       "    .dataframe tbody tr th:only-of-type {\n",
       "        vertical-align: middle;\n",
       "    }\n",
       "\n",
       "    .dataframe tbody tr th {\n",
       "        vertical-align: top;\n",
       "    }\n",
       "\n",
       "    .dataframe thead th {\n",
       "        text-align: right;\n",
       "    }\n",
       "</style>\n",
       "<table border=\"1\" class=\"dataframe\">\n",
       "  <thead>\n",
       "    <tr style=\"text-align: right;\">\n",
       "      <th></th>\n",
       "      <th>College</th>\n",
       "      <th>City</th>\n",
       "      <th>Previous CTC</th>\n",
       "      <th>Previous job change</th>\n",
       "      <th>Graduation Marks</th>\n",
       "      <th>EXP (Month)</th>\n",
       "      <th>Role_Manager</th>\n",
       "      <th>Predicted CTC</th>\n",
       "    </tr>\n",
       "  </thead>\n",
       "  <tbody>\n",
       "    <tr>\n",
       "      <th>0</th>\n",
       "      <td>2</td>\n",
       "      <td>0</td>\n",
       "      <td>55523.0</td>\n",
       "      <td>3</td>\n",
       "      <td>66</td>\n",
       "      <td>19</td>\n",
       "      <td>1</td>\n",
       "      <td>71415.007812</td>\n",
       "    </tr>\n",
       "    <tr>\n",
       "      <th>1</th>\n",
       "      <td>2</td>\n",
       "      <td>0</td>\n",
       "      <td>57081.0</td>\n",
       "      <td>1</td>\n",
       "      <td>84</td>\n",
       "      <td>18</td>\n",
       "      <td>0</td>\n",
       "      <td>68001.890625</td>\n",
       "    </tr>\n",
       "    <tr>\n",
       "      <th>2</th>\n",
       "      <td>3</td>\n",
       "      <td>0</td>\n",
       "      <td>60347.0</td>\n",
       "      <td>2</td>\n",
       "      <td>52</td>\n",
       "      <td>28</td>\n",
       "      <td>0</td>\n",
       "      <td>76760.679688</td>\n",
       "    </tr>\n",
       "    <tr>\n",
       "      <th>3</th>\n",
       "      <td>3</td>\n",
       "      <td>0</td>\n",
       "      <td>49010.0</td>\n",
       "      <td>2</td>\n",
       "      <td>81</td>\n",
       "      <td>33</td>\n",
       "      <td>0</td>\n",
       "      <td>82088.195312</td>\n",
       "    </tr>\n",
       "    <tr>\n",
       "      <th>4</th>\n",
       "      <td>1</td>\n",
       "      <td>0</td>\n",
       "      <td>57879.0</td>\n",
       "      <td>4</td>\n",
       "      <td>74</td>\n",
       "      <td>32</td>\n",
       "      <td>0</td>\n",
       "      <td>67764.203125</td>\n",
       "    </tr>\n",
       "    <tr>\n",
       "      <th>5</th>\n",
       "      <td>1</td>\n",
       "      <td>0</td>\n",
       "      <td>54340.0</td>\n",
       "      <td>4</td>\n",
       "      <td>73</td>\n",
       "      <td>31</td>\n",
       "      <td>0</td>\n",
       "      <td>61901.308594</td>\n",
       "    </tr>\n",
       "    <tr>\n",
       "      <th>6</th>\n",
       "      <td>3</td>\n",
       "      <td>1</td>\n",
       "      <td>60928.0</td>\n",
       "      <td>1</td>\n",
       "      <td>42</td>\n",
       "      <td>46</td>\n",
       "      <td>0</td>\n",
       "      <td>70926.093750</td>\n",
       "    </tr>\n",
       "    <tr>\n",
       "      <th>7</th>\n",
       "      <td>2</td>\n",
       "      <td>1</td>\n",
       "      <td>49944.0</td>\n",
       "      <td>2</td>\n",
       "      <td>56</td>\n",
       "      <td>37</td>\n",
       "      <td>0</td>\n",
       "      <td>57773.175781</td>\n",
       "    </tr>\n",
       "    <tr>\n",
       "      <th>8</th>\n",
       "      <td>3</td>\n",
       "      <td>1</td>\n",
       "      <td>53124.0</td>\n",
       "      <td>4</td>\n",
       "      <td>40</td>\n",
       "      <td>37</td>\n",
       "      <td>0</td>\n",
       "      <td>70085.375000</td>\n",
       "    </tr>\n",
       "    <tr>\n",
       "      <th>9</th>\n",
       "      <td>1</td>\n",
       "      <td>0</td>\n",
       "      <td>51141.0</td>\n",
       "      <td>1</td>\n",
       "      <td>47</td>\n",
       "      <td>60</td>\n",
       "      <td>0</td>\n",
       "      <td>85652.054688</td>\n",
       "    </tr>\n",
       "  </tbody>\n",
       "</table>\n",
       "</div>"
      ],
      "text/plain": [
       "   College  City  Previous CTC  Previous job change  Graduation Marks  \\\n",
       "0        2     0       55523.0                    3                66   \n",
       "1        2     0       57081.0                    1                84   \n",
       "2        3     0       60347.0                    2                52   \n",
       "3        3     0       49010.0                    2                81   \n",
       "4        1     0       57879.0                    4                74   \n",
       "5        1     0       54340.0                    4                73   \n",
       "6        3     1       60928.0                    1                42   \n",
       "7        2     1       49944.0                    2                56   \n",
       "8        3     1       53124.0                    4                40   \n",
       "9        1     0       51141.0                    1                47   \n",
       "\n",
       "   EXP (Month)  Role_Manager  Predicted CTC  \n",
       "0           19             1   71415.007812  \n",
       "1           18             0   68001.890625  \n",
       "2           28             0   76760.679688  \n",
       "3           33             0   82088.195312  \n",
       "4           32             0   67764.203125  \n",
       "5           31             0   61901.308594  \n",
       "6           46             0   70926.093750  \n",
       "7           37             0   57773.175781  \n",
       "8           37             0   70085.375000  \n",
       "9           60             0   85652.054688  "
      ]
     },
     "execution_count": 34,
     "metadata": {},
     "output_type": "execute_result"
    }
   ],
   "source": [
    "# Checking the predictions of best model with data of first 10 entries in our data frame.\n",
    "import pandas as pd\n",
    "\n",
    "new_data = pd.DataFrame({\n",
    "    'College': [2, 2, 3, 3, 1, 1, 3, 2, 3, 1],\n",
    "    'City': [0, 0, 0, 0, 0, 0, 1, 1, 1, 0],\n",
    "    'Previous CTC': [55523.0, 57081.0, 60347.0, 49010.0, 57879.0, 54340.0, 60928.0, 49944.0, 53124.0, 51141.0],\n",
    "    'Previous job change': [3, 1, 2, 2, 4, 4, 1, 2, 4, 1],\n",
    "    'Graduation Marks': [66, 84, 52, 81, 74, 73, 42, 56, 40, 47],\n",
    "    'EXP (Month)': [19, 18, 28, 33, 32, 31, 46, 37, 37, 60],\n",
    "    'Role_Manager': [1, 0, 0, 0, 0, 0, 0, 0, 0, 0]\n",
    "})\n",
    "\n",
    "# Make predictions using the best_model\n",
    "predictions = best_model.predict(new_data)\n",
    "\n",
    "# Create a DataFrame to store the results\n",
    "result_df1 = pd.DataFrame({\n",
    "    'College': new_data['College'],\n",
    "    'City': new_data['City'],\n",
    "    'Previous CTC': new_data['Previous CTC'],\n",
    "    'Previous job change': new_data['Previous job change'],\n",
    "    'Graduation Marks': new_data['Graduation Marks'],\n",
    "    'EXP (Month)': new_data['EXP (Month)'],\n",
    "    'Role_Manager': new_data['Role_Manager'],\n",
    "    'Predicted CTC': predictions\n",
    "})\n",
    "\n",
    "# Print the result DataFrame\n",
    "(result_df1.head(10))"
   ]
  },
  {
   "cell_type": "markdown",
   "id": "29a6ebb9",
   "metadata": {},
   "source": [
    "# Result and conclusion "
   ]
  },
  {
   "cell_type": "code",
   "execution_count": 35,
   "id": "34fb666c",
   "metadata": {},
   "outputs": [],
   "source": [
    "import pandas as pd\n",
    "# Multiply the R2 scores by 100 to convert them to percentages\n",
    "r2_i_percentage = [score * 100 for score in r2_i]\n",
    "r2_r_percentage = [score * 100 for score in r2_r]"
   ]
  },
  {
   "cell_type": "code",
   "execution_count": 36,
   "id": "ca870652",
   "metadata": {},
   "outputs": [
    {
     "data": {
      "text/html": [
       "<div>\n",
       "<style scoped>\n",
       "    .dataframe tbody tr th:only-of-type {\n",
       "        vertical-align: middle;\n",
       "    }\n",
       "\n",
       "    .dataframe tbody tr th {\n",
       "        vertical-align: top;\n",
       "    }\n",
       "\n",
       "    .dataframe thead th {\n",
       "        text-align: right;\n",
       "    }\n",
       "</style>\n",
       "<table border=\"1\" class=\"dataframe\">\n",
       "  <thead>\n",
       "    <tr style=\"text-align: right;\">\n",
       "      <th></th>\n",
       "      <th>RMSE</th>\n",
       "      <th>R2_score(test)</th>\n",
       "      <th>R2_score(train)</th>\n",
       "    </tr>\n",
       "  </thead>\n",
       "  <tbody>\n",
       "    <tr>\n",
       "      <th>Linear Regression</th>\n",
       "      <td>8586.993554</td>\n",
       "      <td>53.431600</td>\n",
       "      <td>53.431600</td>\n",
       "    </tr>\n",
       "    <tr>\n",
       "      <th>Linear Regression 2</th>\n",
       "      <td>8301.196944</td>\n",
       "      <td>53.559899</td>\n",
       "      <td>53.312933</td>\n",
       "    </tr>\n",
       "    <tr>\n",
       "      <th>Ridge Regression</th>\n",
       "      <td>8301.323006</td>\n",
       "      <td>53.558488</td>\n",
       "      <td>53.312926</td>\n",
       "    </tr>\n",
       "    <tr>\n",
       "      <th>Ridge Regression (Best Alpha)</th>\n",
       "      <td>8301.301035</td>\n",
       "      <td>53.558734</td>\n",
       "      <td>53.312928</td>\n",
       "    </tr>\n",
       "    <tr>\n",
       "      <th>Lasso Regression (Optimized Alpha)</th>\n",
       "      <td>8300.228095</td>\n",
       "      <td>53.570739</td>\n",
       "      <td>53.312630</td>\n",
       "    </tr>\n",
       "    <tr>\n",
       "      <th>Lasso Regression</th>\n",
       "      <td>8301.138267</td>\n",
       "      <td>53.560555</td>\n",
       "      <td>53.312932</td>\n",
       "    </tr>\n",
       "    <tr>\n",
       "      <th>Best Bagging Regressor</th>\n",
       "      <td>7815.041733</td>\n",
       "      <td>58.840099</td>\n",
       "      <td>84.006831</td>\n",
       "    </tr>\n",
       "    <tr>\n",
       "      <th>RandomForest Regressor</th>\n",
       "      <td>7094.670721</td>\n",
       "      <td>66.078409</td>\n",
       "      <td>95.071210</td>\n",
       "    </tr>\n",
       "    <tr>\n",
       "      <th>Optimized RandomForest Regressor</th>\n",
       "      <td>7083.490852</td>\n",
       "      <td>66.185233</td>\n",
       "      <td>95.189968</td>\n",
       "    </tr>\n",
       "    <tr>\n",
       "      <th>GradientBoosting Regressor</th>\n",
       "      <td>7586.931118</td>\n",
       "      <td>61.207836</td>\n",
       "      <td>55.533678</td>\n",
       "    </tr>\n",
       "    <tr>\n",
       "      <th>Custom GradientBoosting Regressor</th>\n",
       "      <td>8408.255631</td>\n",
       "      <td>52.354319</td>\n",
       "      <td>52.354319</td>\n",
       "    </tr>\n",
       "    <tr>\n",
       "      <th>Best GradientBoosting Regressor</th>\n",
       "      <td>7586.978892</td>\n",
       "      <td>61.207348</td>\n",
       "      <td>61.207348</td>\n",
       "    </tr>\n",
       "    <tr>\n",
       "      <th>AdaBoost Regressor</th>\n",
       "      <td>7742.106847</td>\n",
       "      <td>59.604774</td>\n",
       "      <td>62.624374</td>\n",
       "    </tr>\n",
       "    <tr>\n",
       "      <th>Best AdaBoost Regressor</th>\n",
       "      <td>7584.952772</td>\n",
       "      <td>61.228064</td>\n",
       "      <td>61.228064</td>\n",
       "    </tr>\n",
       "    <tr>\n",
       "      <th>XGBoost Regressor</th>\n",
       "      <td>7476.030694</td>\n",
       "      <td>62.333621</td>\n",
       "      <td>98.236019</td>\n",
       "    </tr>\n",
       "    <tr>\n",
       "      <th>XGBoost Best Model</th>\n",
       "      <td>7066.001353</td>\n",
       "      <td>66.352008</td>\n",
       "      <td>99.999933</td>\n",
       "    </tr>\n",
       "  </tbody>\n",
       "</table>\n",
       "</div>"
      ],
      "text/plain": [
       "                                           RMSE  R2_score(test)  \\\n",
       "Linear Regression                   8586.993554       53.431600   \n",
       "Linear Regression 2                 8301.196944       53.559899   \n",
       "Ridge Regression                    8301.323006       53.558488   \n",
       "Ridge Regression (Best Alpha)       8301.301035       53.558734   \n",
       "Lasso Regression (Optimized Alpha)  8300.228095       53.570739   \n",
       "Lasso Regression                    8301.138267       53.560555   \n",
       "Best Bagging Regressor              7815.041733       58.840099   \n",
       "RandomForest Regressor              7094.670721       66.078409   \n",
       "Optimized RandomForest Regressor    7083.490852       66.185233   \n",
       "GradientBoosting Regressor          7586.931118       61.207836   \n",
       "Custom GradientBoosting Regressor   8408.255631       52.354319   \n",
       "Best GradientBoosting Regressor     7586.978892       61.207348   \n",
       "AdaBoost Regressor                  7742.106847       59.604774   \n",
       "Best AdaBoost Regressor             7584.952772       61.228064   \n",
       "XGBoost Regressor                   7476.030694       62.333621   \n",
       "XGBoost Best Model                  7066.001353       66.352008   \n",
       "\n",
       "                                    R2_score(train)  \n",
       "Linear Regression                         53.431600  \n",
       "Linear Regression 2                       53.312933  \n",
       "Ridge Regression                          53.312926  \n",
       "Ridge Regression (Best Alpha)             53.312928  \n",
       "Lasso Regression (Optimized Alpha)        53.312630  \n",
       "Lasso Regression                          53.312932  \n",
       "Best Bagging Regressor                    84.006831  \n",
       "RandomForest Regressor                    95.071210  \n",
       "Optimized RandomForest Regressor          95.189968  \n",
       "GradientBoosting Regressor                55.533678  \n",
       "Custom GradientBoosting Regressor         52.354319  \n",
       "Best GradientBoosting Regressor           61.207348  \n",
       "AdaBoost Regressor                        62.624374  \n",
       "Best AdaBoost Regressor                   61.228064  \n",
       "XGBoost Regressor                         98.236019  \n",
       "XGBoost Best Model                        99.999933  "
      ]
     },
     "execution_count": 36,
     "metadata": {},
     "output_type": "execute_result"
    }
   ],
   "source": [
    "# Creating a DataFrame to compare models accuracy\n",
    "result_df = pd.DataFrame({'RMSE': r_mean_squared_error, 'R2_score(test)': r2_i_percentage, 'R2_score(train)': r2_r_percentage},index=models)\n",
    "\n",
    "result_df"
   ]
  },
  {
   "cell_type": "markdown",
   "id": "f6f5eb02",
   "metadata": {},
   "source": [
    "Conclusion \n",
    "\n",
    "The XGBoost Best Model arises as the reasonable leader with regards to prescient execution, flaunting amazing measurements. It accomplishes an uncommonly low Root Mean Squared Blunder (RMSE) of 7066.001353, really limiting the inconsistencies among anticipated and genuine qualities. In addition, its R2 scores, which act as signs of its prescient exactness, sparkle at 66.352% on the test dataset and a shocking 99.99% on the preparation dataset. This blend highlights the model's unprecedented ability to convey high accuracy as well as display momentous speculation to novel and unseen information.\n",
    "The flexibility of the XGBoost Best Model renders it a significant resource, particularly in the space of determining compensations for fresh recruits. Its accuracy in foreseeing pay rates can essentially help associations in settling on very much educated choices in regards to pay bundles, adjusting representative assumptions, and keeping an upper hand in the gig market. Its proficiency in taking care of different and perplexing datasets, alongside its vigorous capacity to sum up, positions it as the favored decision for applications where precise expectations on already unencountered information are of most extreme significance.\n",
    "In outline, the XGBoost Best Model's extraordinary execution, portrayed by its low RMSE, high R2 scores, and strong speculation capacities, highlights its reasonableness across a large number of businesses. It sets an elevated requirement for prescient demonstrating, offering both dependability and versatility in estimating new worker compensations, in this manner enabling associations to pursue sure and informed choices."
   ]
  },
  {
   "cell_type": "markdown",
   "id": "54d74f22",
   "metadata": {},
   "source": [
    "# Answers"
   ]
  },
  {
   "cell_type": "markdown",
   "id": "a0010117",
   "metadata": {},
   "source": [
    " - **My Perspective on the Problem Statement:** The issue explanation spins around determining the pay rates of recently onboarded staff individuals at TechWorks Counseling, utilizing an Machine learning model. The association's goal is to lay out fair and serious compensation for its labor force, considering variables, for example, instructive foundation, work insight, geographic area, and occupation job. This comprises a relapse challenge, with a definitive point being the development of a model capable in unequivocally assessing pay rates by utilizing relevant traits."
   ]
  },
  {
   "cell_type": "markdown",
   "id": "7a12fcf0",
   "metadata": {},
   "source": [
    "- Approach to Solving the Task To approach this task, you'll need to perform the following steps: \n",
    "\n",
    "    a. **Data Understanding:** Understand the provided data, its features, and the target variable (salary). \n",
    "    \n",
    "    b. **Data Preprocessing:** Clean the data by handling missing values, outliers, and converting categorical variables          into numerical format. Create dummy variables for the \"Role\" feature and Univariate,Bi-variate analysis using EDD.\n",
    "    \n",
    "    c. **Feature Selection:** Identify the most relevant features that could impact salary predictions. \n",
    "    \n",
    "    d. **Model Selection:** Choose one or more regression models suitable for the task. \n",
    "    \n",
    "    e. **Model Training:** Train the selected model(s) on the training data. \n",
    "    \n",
    "    f. **Model Evaluation:** Evaluate the models using appropriate metrics, such as Mean Squared Error (MSE) or R-squared. \n",
    "    \n",
    "    g. **Model Comparison:** Compare the performance of different models. \n",
    "    \n",
    "    h. **Model Tuning:** Fine-tune the hyperparameters of the chosen model to improve performance. \n",
    "    \n",
    "    i. **Prediction:** Use the trained model to predict salaries for new employees."
   ]
  },
  {
   "cell_type": "markdown",
   "id": "215a00ee",
   "metadata": {},
   "source": [
    "- You have a variety of regression models available, such as:\n",
    "    - Linear Regression\n",
    "    - Ridge Regression \n",
    "    - Lasso Regression \n",
    "    - Decision Tree Regression \n",
    "    - Random Forest Regression \n",
    "    - Gradient Boosting Regression \n",
    "    - XGBoost Regression"
   ]
  },
  {
   "cell_type": "markdown",
   "id": "2320fb15",
   "metadata": {},
   "source": [
    "- Performance of the Top Model and Its Rationale\n",
    "\n",
    " - **Impressively Low RMSE (Root Mean Squared Error):** The XGBoost Best Model has achieved an exceptionally low RMSE of 7066.001353. RMSE serves as a measure of the average magnitude of prediction errors, and a lower value signifies greater accuracy in predictions.\n",
    "\n",
    " - **Exceptional R2 Scores:** The R2 scores, which gauge the proportion of predictable variance in the dependent variable based on the independent variables, are truly remarkable. The XGBoost model has attained a score of 66.352% on the test dataset and an astonishing 99.99% on the training dataset. These high R2 scores indicate the model's effectiveness in capturing and elucidating variations in the target variable.\n",
    "\n",
    " - **Robust Generalization:** The model's nearly flawless R2 score on the training dataset (99.99%) underscores its robust generalization capabilities to novel and unobserved data—a critical aspect for predictive models to excel when dealing with previously unseen data.\n",
    "\n",
    " - **Hyperparameter Optimization:** Further enhancing the model's performance, GridSearchCV systematically explored diverse combinations of hyperparameters. This optimization process fine-tuned the model's settings to achieve optimal predictive accuracy.\n",
    "\n",
    " - **Ensemble Learning:** XGBoost employs a sophisticated ensemble learning technique, combining multiple weak models to form a robust predictive model. This approach effectively captures intricate data relationships, contributing to the model's high accuracy.\n",
    "\n",
    " - **Feature Importance:**  Analysis of the feature importance plots generated by the model revealed XGBoost's aptitude in identifying and leveraging the most critical features for prediction. This highlights the model's capability to prioritize key factors influencing outcomes.\n",
    "\n",
    " - **Versatility:** XGBoost's versatility in handling diverse and complex datasets adds to its appeal. Its consistent performance across various scenarios establishes it as a dependable choice for a wide array of applications."
   ]
  },
  {
   "cell_type": "markdown",
   "id": "124b2ff6",
   "metadata": {},
   "source": [
    "- Enhancing the Performance of the Chosen Model:\n",
    "\n",
    "    - **Feature Enhancement:** Delve into the creation of novel features that may supply supplementary insights to the             model.\n",
    "\n",
    "    - **Hyperparameter Optimization:** Refine the hyperparameters using methods such as GridSearchCV or RandomizedSearchCV.         For further optimization, especially when the hyperparameter tuning exceeds the capabilities of my current machine,         consider utilizing supercomputers.\n",
    "\n",
    "    - **Ensemble Strategies:** Ponder the adoption of ensemble strategies like Bagging and Boosting to amalgamate multiple         models, leading to superior predictive capabilities.\n",
    "\n",
    "    - **Regularization:** Implement regularization techniques to guard against overfitting, ensuring the model's                   generalizability.\n",
    "\n",
    "    - **Augmented Data:** If feasible, procure additional data to enhance the model's capacity to generalize. A larger             training dataset often yields improved results.\n",
    "\n",
    "    - **Advanced Approaches:** Explore advanced methodologies like stacking or the incorporation of more intricate models           if the situation necessitates it."
   ]
  },
  {
   "cell_type": "code",
   "execution_count": null,
   "id": "3b9d9acf",
   "metadata": {},
   "outputs": [],
   "source": []
  }
 ],
 "metadata": {
  "kernelspec": {
   "display_name": "Python 3 (ipykernel)",
   "language": "python",
   "name": "python3"
  },
  "language_info": {
   "codemirror_mode": {
    "name": "ipython",
    "version": 3
   },
   "file_extension": ".py",
   "mimetype": "text/x-python",
   "name": "python",
   "nbconvert_exporter": "python",
   "pygments_lexer": "ipython3",
   "version": "3.11.5"
  }
 },
 "nbformat": 4,
 "nbformat_minor": 5
}
